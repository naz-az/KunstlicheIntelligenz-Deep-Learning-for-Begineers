{
  "nbformat": 4,
  "nbformat_minor": 0,
  "metadata": {
    "colab": {
      "provenance": []
    },
    "kernelspec": {
      "name": "python3",
      "display_name": "Python 3"
    },
    "language_info": {
      "name": "python"
    }
  },
  "cells": [
    {
      "cell_type": "code",
      "source": [
        "# grader-required-cell\n",
        "\n",
        "import io\n",
        "import csv\n",
        "import tensorflow as tf\n",
        "import numpy as np\n",
        "from tensorflow.keras.preprocessing.text import Tokenizer\n",
        "from tensorflow.keras.preprocessing.sequence import pad_sequences\n",
        "import matplotlib.pyplot as plt\n",
        "import pandas as pd"
      ],
      "metadata": {
        "id": "RqnIIjJZboOD"
      },
      "execution_count": 13,
      "outputs": []
    },
    {
      "cell_type": "code",
      "execution_count": 14,
      "metadata": {
        "id": "u7TJ1ZDKWPYg"
      },
      "outputs": [],
      "source": [
        "import zipfile\n",
        "\n",
        "# Unzip the downloaded file\n",
        "zip_ref = zipfile.ZipFile(\"/content/learn-ai-bbc.zip\", \"r\")\n",
        "zip_ref.extractall()\n",
        "zip_ref.close()"
      ]
    },
    {
      "cell_type": "code",
      "source": [
        "df = pd.read_csv(\"/content/BBC News Train.csv\")\n",
        "df.head()"
      ],
      "metadata": {
        "colab": {
          "base_uri": "https://localhost:8080/",
          "height": 206
        },
        "id": "LvcuV5SGbgrh",
        "outputId": "9952da6b-2aa9-4daa-bae8-7af9f9f195ff"
      },
      "execution_count": 15,
      "outputs": [
        {
          "output_type": "execute_result",
          "data": {
            "text/plain": [
              "   ArticleId                                               Text  Category\n",
              "0       1833  worldcom ex-boss launches defence lawyers defe...  business\n",
              "1        154  german business confidence slides german busin...  business\n",
              "2       1101  bbc poll indicates economic gloom citizens in ...  business\n",
              "3       1976  lifestyle  governs mobile choice  faster  bett...      tech\n",
              "4        917  enron bosses in $168m payout eighteen former e...  business"
            ],
            "text/html": [
              "\n",
              "  <div id=\"df-c54d5356-bfde-488b-b490-bc75eb0b0ca4\">\n",
              "    <div class=\"colab-df-container\">\n",
              "      <div>\n",
              "<style scoped>\n",
              "    .dataframe tbody tr th:only-of-type {\n",
              "        vertical-align: middle;\n",
              "    }\n",
              "\n",
              "    .dataframe tbody tr th {\n",
              "        vertical-align: top;\n",
              "    }\n",
              "\n",
              "    .dataframe thead th {\n",
              "        text-align: right;\n",
              "    }\n",
              "</style>\n",
              "<table border=\"1\" class=\"dataframe\">\n",
              "  <thead>\n",
              "    <tr style=\"text-align: right;\">\n",
              "      <th></th>\n",
              "      <th>ArticleId</th>\n",
              "      <th>Text</th>\n",
              "      <th>Category</th>\n",
              "    </tr>\n",
              "  </thead>\n",
              "  <tbody>\n",
              "    <tr>\n",
              "      <th>0</th>\n",
              "      <td>1833</td>\n",
              "      <td>worldcom ex-boss launches defence lawyers defe...</td>\n",
              "      <td>business</td>\n",
              "    </tr>\n",
              "    <tr>\n",
              "      <th>1</th>\n",
              "      <td>154</td>\n",
              "      <td>german business confidence slides german busin...</td>\n",
              "      <td>business</td>\n",
              "    </tr>\n",
              "    <tr>\n",
              "      <th>2</th>\n",
              "      <td>1101</td>\n",
              "      <td>bbc poll indicates economic gloom citizens in ...</td>\n",
              "      <td>business</td>\n",
              "    </tr>\n",
              "    <tr>\n",
              "      <th>3</th>\n",
              "      <td>1976</td>\n",
              "      <td>lifestyle  governs mobile choice  faster  bett...</td>\n",
              "      <td>tech</td>\n",
              "    </tr>\n",
              "    <tr>\n",
              "      <th>4</th>\n",
              "      <td>917</td>\n",
              "      <td>enron bosses in $168m payout eighteen former e...</td>\n",
              "      <td>business</td>\n",
              "    </tr>\n",
              "  </tbody>\n",
              "</table>\n",
              "</div>\n",
              "      <button class=\"colab-df-convert\" onclick=\"convertToInteractive('df-c54d5356-bfde-488b-b490-bc75eb0b0ca4')\"\n",
              "              title=\"Convert this dataframe to an interactive table.\"\n",
              "              style=\"display:none;\">\n",
              "        \n",
              "  <svg xmlns=\"http://www.w3.org/2000/svg\" height=\"24px\"viewBox=\"0 0 24 24\"\n",
              "       width=\"24px\">\n",
              "    <path d=\"M0 0h24v24H0V0z\" fill=\"none\"/>\n",
              "    <path d=\"M18.56 5.44l.94 2.06.94-2.06 2.06-.94-2.06-.94-.94-2.06-.94 2.06-2.06.94zm-11 1L8.5 8.5l.94-2.06 2.06-.94-2.06-.94L8.5 2.5l-.94 2.06-2.06.94zm10 10l.94 2.06.94-2.06 2.06-.94-2.06-.94-.94-2.06-.94 2.06-2.06.94z\"/><path d=\"M17.41 7.96l-1.37-1.37c-.4-.4-.92-.59-1.43-.59-.52 0-1.04.2-1.43.59L10.3 9.45l-7.72 7.72c-.78.78-.78 2.05 0 2.83L4 21.41c.39.39.9.59 1.41.59.51 0 1.02-.2 1.41-.59l7.78-7.78 2.81-2.81c.8-.78.8-2.07 0-2.86zM5.41 20L4 18.59l7.72-7.72 1.47 1.35L5.41 20z\"/>\n",
              "  </svg>\n",
              "      </button>\n",
              "      \n",
              "  <style>\n",
              "    .colab-df-container {\n",
              "      display:flex;\n",
              "      flex-wrap:wrap;\n",
              "      gap: 12px;\n",
              "    }\n",
              "\n",
              "    .colab-df-convert {\n",
              "      background-color: #E8F0FE;\n",
              "      border: none;\n",
              "      border-radius: 50%;\n",
              "      cursor: pointer;\n",
              "      display: none;\n",
              "      fill: #1967D2;\n",
              "      height: 32px;\n",
              "      padding: 0 0 0 0;\n",
              "      width: 32px;\n",
              "    }\n",
              "\n",
              "    .colab-df-convert:hover {\n",
              "      background-color: #E2EBFA;\n",
              "      box-shadow: 0px 1px 2px rgba(60, 64, 67, 0.3), 0px 1px 3px 1px rgba(60, 64, 67, 0.15);\n",
              "      fill: #174EA6;\n",
              "    }\n",
              "\n",
              "    [theme=dark] .colab-df-convert {\n",
              "      background-color: #3B4455;\n",
              "      fill: #D2E3FC;\n",
              "    }\n",
              "\n",
              "    [theme=dark] .colab-df-convert:hover {\n",
              "      background-color: #434B5C;\n",
              "      box-shadow: 0px 1px 3px 1px rgba(0, 0, 0, 0.15);\n",
              "      filter: drop-shadow(0px 1px 2px rgba(0, 0, 0, 0.3));\n",
              "      fill: #FFFFFF;\n",
              "    }\n",
              "  </style>\n",
              "\n",
              "      <script>\n",
              "        const buttonEl =\n",
              "          document.querySelector('#df-c54d5356-bfde-488b-b490-bc75eb0b0ca4 button.colab-df-convert');\n",
              "        buttonEl.style.display =\n",
              "          google.colab.kernel.accessAllowed ? 'block' : 'none';\n",
              "\n",
              "        async function convertToInteractive(key) {\n",
              "          const element = document.querySelector('#df-c54d5356-bfde-488b-b490-bc75eb0b0ca4');\n",
              "          const dataTable =\n",
              "            await google.colab.kernel.invokeFunction('convertToInteractive',\n",
              "                                                     [key], {});\n",
              "          if (!dataTable) return;\n",
              "\n",
              "          const docLinkHtml = 'Like what you see? Visit the ' +\n",
              "            '<a target=\"_blank\" href=https://colab.research.google.com/notebooks/data_table.ipynb>data table notebook</a>'\n",
              "            + ' to learn more about interactive tables.';\n",
              "          element.innerHTML = '';\n",
              "          dataTable['output_type'] = 'display_data';\n",
              "          await google.colab.output.renderOutput(dataTable, element);\n",
              "          const docLink = document.createElement('div');\n",
              "          docLink.innerHTML = docLinkHtml;\n",
              "          element.appendChild(docLink);\n",
              "        }\n",
              "      </script>\n",
              "    </div>\n",
              "  </div>\n",
              "  "
            ]
          },
          "metadata": {},
          "execution_count": 15
        }
      ]
    },
    {
      "cell_type": "code",
      "source": [
        "dif = pd.read_csv(\"/content/BBC News Test.csv\")\n",
        "dif.head()"
      ],
      "metadata": {
        "colab": {
          "base_uri": "https://localhost:8080/",
          "height": 206
        },
        "id": "3VONQvO3buZu",
        "outputId": "cc518bdf-9a36-497d-cfe3-59041faa483d"
      },
      "execution_count": 16,
      "outputs": [
        {
          "output_type": "execute_result",
          "data": {
            "text/plain": [
              "   ArticleId                                               Text\n",
              "0       1018  qpr keeper day heads for preston queens park r...\n",
              "1       1319  software watching while you work software that...\n",
              "2       1138  d arcy injury adds to ireland woe gordon d arc...\n",
              "3        459  india s reliance family feud heats up the ongo...\n",
              "4       1020  boro suffer morrison injury blow middlesbrough..."
            ],
            "text/html": [
              "\n",
              "  <div id=\"df-52ef4903-2111-40d4-bc43-d65ec3bfaee3\">\n",
              "    <div class=\"colab-df-container\">\n",
              "      <div>\n",
              "<style scoped>\n",
              "    .dataframe tbody tr th:only-of-type {\n",
              "        vertical-align: middle;\n",
              "    }\n",
              "\n",
              "    .dataframe tbody tr th {\n",
              "        vertical-align: top;\n",
              "    }\n",
              "\n",
              "    .dataframe thead th {\n",
              "        text-align: right;\n",
              "    }\n",
              "</style>\n",
              "<table border=\"1\" class=\"dataframe\">\n",
              "  <thead>\n",
              "    <tr style=\"text-align: right;\">\n",
              "      <th></th>\n",
              "      <th>ArticleId</th>\n",
              "      <th>Text</th>\n",
              "    </tr>\n",
              "  </thead>\n",
              "  <tbody>\n",
              "    <tr>\n",
              "      <th>0</th>\n",
              "      <td>1018</td>\n",
              "      <td>qpr keeper day heads for preston queens park r...</td>\n",
              "    </tr>\n",
              "    <tr>\n",
              "      <th>1</th>\n",
              "      <td>1319</td>\n",
              "      <td>software watching while you work software that...</td>\n",
              "    </tr>\n",
              "    <tr>\n",
              "      <th>2</th>\n",
              "      <td>1138</td>\n",
              "      <td>d arcy injury adds to ireland woe gordon d arc...</td>\n",
              "    </tr>\n",
              "    <tr>\n",
              "      <th>3</th>\n",
              "      <td>459</td>\n",
              "      <td>india s reliance family feud heats up the ongo...</td>\n",
              "    </tr>\n",
              "    <tr>\n",
              "      <th>4</th>\n",
              "      <td>1020</td>\n",
              "      <td>boro suffer morrison injury blow middlesbrough...</td>\n",
              "    </tr>\n",
              "  </tbody>\n",
              "</table>\n",
              "</div>\n",
              "      <button class=\"colab-df-convert\" onclick=\"convertToInteractive('df-52ef4903-2111-40d4-bc43-d65ec3bfaee3')\"\n",
              "              title=\"Convert this dataframe to an interactive table.\"\n",
              "              style=\"display:none;\">\n",
              "        \n",
              "  <svg xmlns=\"http://www.w3.org/2000/svg\" height=\"24px\"viewBox=\"0 0 24 24\"\n",
              "       width=\"24px\">\n",
              "    <path d=\"M0 0h24v24H0V0z\" fill=\"none\"/>\n",
              "    <path d=\"M18.56 5.44l.94 2.06.94-2.06 2.06-.94-2.06-.94-.94-2.06-.94 2.06-2.06.94zm-11 1L8.5 8.5l.94-2.06 2.06-.94-2.06-.94L8.5 2.5l-.94 2.06-2.06.94zm10 10l.94 2.06.94-2.06 2.06-.94-2.06-.94-.94-2.06-.94 2.06-2.06.94z\"/><path d=\"M17.41 7.96l-1.37-1.37c-.4-.4-.92-.59-1.43-.59-.52 0-1.04.2-1.43.59L10.3 9.45l-7.72 7.72c-.78.78-.78 2.05 0 2.83L4 21.41c.39.39.9.59 1.41.59.51 0 1.02-.2 1.41-.59l7.78-7.78 2.81-2.81c.8-.78.8-2.07 0-2.86zM5.41 20L4 18.59l7.72-7.72 1.47 1.35L5.41 20z\"/>\n",
              "  </svg>\n",
              "      </button>\n",
              "      \n",
              "  <style>\n",
              "    .colab-df-container {\n",
              "      display:flex;\n",
              "      flex-wrap:wrap;\n",
              "      gap: 12px;\n",
              "    }\n",
              "\n",
              "    .colab-df-convert {\n",
              "      background-color: #E8F0FE;\n",
              "      border: none;\n",
              "      border-radius: 50%;\n",
              "      cursor: pointer;\n",
              "      display: none;\n",
              "      fill: #1967D2;\n",
              "      height: 32px;\n",
              "      padding: 0 0 0 0;\n",
              "      width: 32px;\n",
              "    }\n",
              "\n",
              "    .colab-df-convert:hover {\n",
              "      background-color: #E2EBFA;\n",
              "      box-shadow: 0px 1px 2px rgba(60, 64, 67, 0.3), 0px 1px 3px 1px rgba(60, 64, 67, 0.15);\n",
              "      fill: #174EA6;\n",
              "    }\n",
              "\n",
              "    [theme=dark] .colab-df-convert {\n",
              "      background-color: #3B4455;\n",
              "      fill: #D2E3FC;\n",
              "    }\n",
              "\n",
              "    [theme=dark] .colab-df-convert:hover {\n",
              "      background-color: #434B5C;\n",
              "      box-shadow: 0px 1px 3px 1px rgba(0, 0, 0, 0.15);\n",
              "      filter: drop-shadow(0px 1px 2px rgba(0, 0, 0, 0.3));\n",
              "      fill: #FFFFFF;\n",
              "    }\n",
              "  </style>\n",
              "\n",
              "      <script>\n",
              "        const buttonEl =\n",
              "          document.querySelector('#df-52ef4903-2111-40d4-bc43-d65ec3bfaee3 button.colab-df-convert');\n",
              "        buttonEl.style.display =\n",
              "          google.colab.kernel.accessAllowed ? 'block' : 'none';\n",
              "\n",
              "        async function convertToInteractive(key) {\n",
              "          const element = document.querySelector('#df-52ef4903-2111-40d4-bc43-d65ec3bfaee3');\n",
              "          const dataTable =\n",
              "            await google.colab.kernel.invokeFunction('convertToInteractive',\n",
              "                                                     [key], {});\n",
              "          if (!dataTable) return;\n",
              "\n",
              "          const docLinkHtml = 'Like what you see? Visit the ' +\n",
              "            '<a target=\"_blank\" href=https://colab.research.google.com/notebooks/data_table.ipynb>data table notebook</a>'\n",
              "            + ' to learn more about interactive tables.';\n",
              "          element.innerHTML = '';\n",
              "          dataTable['output_type'] = 'display_data';\n",
              "          await google.colab.output.renderOutput(dataTable, element);\n",
              "          const docLink = document.createElement('div');\n",
              "          docLink.innerHTML = docLinkHtml;\n",
              "          element.appendChild(docLink);\n",
              "        }\n",
              "      </script>\n",
              "    </div>\n",
              "  </div>\n",
              "  "
            ]
          },
          "metadata": {},
          "execution_count": 16
        }
      ]
    },
    {
      "cell_type": "code",
      "source": [
        "df[\"Category\"].value_counts()"
      ],
      "metadata": {
        "colab": {
          "base_uri": "https://localhost:8080/"
        },
        "id": "HRcnuxc8b3tK",
        "outputId": "1c652d37-2c7c-4d73-e454-c559a7e732f0"
      },
      "execution_count": 17,
      "outputs": [
        {
          "output_type": "execute_result",
          "data": {
            "text/plain": [
              "sport            346\n",
              "business         336\n",
              "politics         274\n",
              "entertainment    273\n",
              "tech             261\n",
              "Name: Category, dtype: int64"
            ]
          },
          "metadata": {},
          "execution_count": 17
        }
      ]
    },
    {
      "cell_type": "code",
      "source": [
        "df.info()"
      ],
      "metadata": {
        "colab": {
          "base_uri": "https://localhost:8080/"
        },
        "id": "zSPeD5uwcYjs",
        "outputId": "6fa3c3b1-17a9-4cc1-dcbe-df3332ada31f"
      },
      "execution_count": 18,
      "outputs": [
        {
          "output_type": "stream",
          "name": "stdout",
          "text": [
            "<class 'pandas.core.frame.DataFrame'>\n",
            "RangeIndex: 1490 entries, 0 to 1489\n",
            "Data columns (total 3 columns):\n",
            " #   Column     Non-Null Count  Dtype \n",
            "---  ------     --------------  ----- \n",
            " 0   ArticleId  1490 non-null   int64 \n",
            " 1   Text       1490 non-null   object\n",
            " 2   Category   1490 non-null   object\n",
            "dtypes: int64(1), object(2)\n",
            "memory usage: 35.0+ KB\n"
          ]
        }
      ]
    },
    {
      "cell_type": "code",
      "source": [
        "import pandas as pd\n",
        "\n",
        "def clean_dataframe(df):\n",
        "    # Check and print the number of duplicate rows based on 'ArticleId' column\n",
        "    duplicate_rows = df[df.duplicated(subset='ArticleId', keep='first')]\n",
        "    print(f\"Number of duplicate rows: {len(duplicate_rows)}\")\n",
        "    \n",
        "    # Check and print the number of rows with empty values in 'Text' and 'Category' columns\n",
        "    empty_text_rows = df[df['Text'].isnull() | df['Text'].str.strip().eq('')]\n",
        "    empty_category_rows = df[df['Category'].isnull() | df['Category'].str.strip().eq('')]\n",
        "    print(f\"Number of rows with empty 'Text': {len(empty_text_rows)}\")\n",
        "    print(f\"Number of rows with empty 'Category': {len(empty_category_rows)}\")\n",
        "\n",
        "    # Remove duplicates based on 'ArticleId' column\n",
        "    df = df.drop_duplicates(subset='ArticleId', keep='first')\n",
        "\n",
        "    # Remove rows with empty values in 'Text' and 'Category' columns\n",
        "    df = df[df['Text'].notnull() & df['Text'].str.strip().ne('')]\n",
        "    df = df[df['Category'].notnull() & df['Category'].str.strip().ne('')]\n",
        "\n",
        "    return df\n",
        "\n",
        "# Assuming your dataframe is already created and named 'df'\n",
        "df_cleaned = clean_dataframe(df)\n"
      ],
      "metadata": {
        "colab": {
          "base_uri": "https://localhost:8080/"
        },
        "id": "7nctCE2LhG5g",
        "outputId": "c1850ce1-b94b-452f-8989-d69fb957b686"
      },
      "execution_count": 19,
      "outputs": [
        {
          "output_type": "stream",
          "name": "stdout",
          "text": [
            "Number of duplicate rows: 0\n",
            "Number of rows with empty 'Text': 0\n",
            "Number of rows with empty 'Category': 0\n"
          ]
        }
      ]
    },
    {
      "cell_type": "code",
      "source": [
        "df.info()"
      ],
      "metadata": {
        "colab": {
          "base_uri": "https://localhost:8080/"
        },
        "id": "rotzRAebhNlw",
        "outputId": "023d76c0-88a0-4cf9-d447-9005ec18fde1"
      },
      "execution_count": 20,
      "outputs": [
        {
          "output_type": "stream",
          "name": "stdout",
          "text": [
            "<class 'pandas.core.frame.DataFrame'>\n",
            "RangeIndex: 1490 entries, 0 to 1489\n",
            "Data columns (total 3 columns):\n",
            " #   Column     Non-Null Count  Dtype \n",
            "---  ------     --------------  ----- \n",
            " 0   ArticleId  1490 non-null   int64 \n",
            " 1   Text       1490 non-null   object\n",
            " 2   Category   1490 non-null   object\n",
            "dtypes: int64(1), object(2)\n",
            "memory usage: 35.0+ KB\n"
          ]
        }
      ]
    },
    {
      "cell_type": "code",
      "source": [
        "import pandas as pd\n",
        "import matplotlib.pyplot as plt\n",
        "\n",
        "# Assuming your dataframe is already created and named 'df'\n",
        "category_counts = df[\"Category\"].value_counts()\n",
        "\n",
        "# Plot the pie chart\n",
        "fig, ax = plt.subplots()\n",
        "ax.pie(category_counts, labels=category_counts.index, autopct='%1.1f%%', startangle=90)\n",
        "ax.axis('equal')  # Equal aspect ratio ensures that pie is drawn as a circle.\n",
        "\n",
        "# Add a title\n",
        "plt.title(\"Percentage of Values in 'Category' Column\")\n",
        "\n",
        "# Show the pie chart\n",
        "plt.show()\n"
      ],
      "metadata": {
        "colab": {
          "base_uri": "https://localhost:8080/",
          "height": 428
        },
        "id": "OsfepEf-ccbn",
        "outputId": "ad8037ed-32e1-4e12-9801-ef3be295cc61"
      },
      "execution_count": 21,
      "outputs": [
        {
          "output_type": "display_data",
          "data": {
            "text/plain": [
              "<Figure size 640x480 with 1 Axes>"
            ],
            "image/png": "[encoded data removed]"
          },
          "metadata": {}
        }
      ]
    },
    {
      "cell_type": "code",
      "source": [
        "import pandas as pd\n",
        "import matplotlib.pyplot as plt\n",
        "import numpy as np\n",
        "\n",
        "# Assuming your dataframe is already created and named 'df'\n",
        "category_counts = df[\"Category\"].value_counts()\n",
        "\n",
        "# Plot the bar chart\n",
        "fig, ax = plt.subplots()\n",
        "\n",
        "# Create a colormap and generate a list of colors for the bars\n",
        "cmap = plt.cm.get_cmap(\"viridis\")\n",
        "colors = cmap(np.linspace(0, 1, len(category_counts)))\n",
        "\n",
        "# Draw the bars with the specified colors\n",
        "ax.bar(category_counts.index, category_counts, width=0.8, color=colors)\n",
        "\n",
        "# Add labels and a title\n",
        "plt.xlabel('Category')\n",
        "plt.ylabel('Count')\n",
        "plt.title(\"News Categories\")\n",
        "\n",
        "# Rotate x-axis labels for better readability\n",
        "plt.xticks(rotation=45)\n",
        "\n",
        "# Show the bar chart\n",
        "plt.show()\n"
      ],
      "metadata": {
        "colab": {
          "base_uri": "https://localhost:8080/",
          "height": 593
        },
        "id": "pSsZ22bYcvHa",
        "outputId": "3717cb8b-d41a-43b6-8667-d737c88665bb"
      },
      "execution_count": 22,
      "outputs": [
        {
          "output_type": "stream",
          "name": "stderr",
          "text": [
            "<ipython-input-22-918bfbd9b6ab>:12: MatplotlibDeprecationWarning: The get_cmap function was deprecated in Matplotlib 3.7 and will be removed two minor releases later. Use ``matplotlib.colormaps[name]`` or ``matplotlib.colormaps.get_cmap(obj)`` instead.\n",
            "  cmap = plt.cm.get_cmap(\"viridis\")\n"
          ]
        },
        {
          "output_type": "display_data",
          "data": {
            "text/plain": [
              "<Figure size 640x480 with 1 Axes>"
            ],
            "image/png": "[encoded data removed]"
          },
          "metadata": {}
        }
      ]
    },
    {
      "cell_type": "code",
      "source": [
        "# grader-required-cell\n",
        "\n",
        "NUM_WORDS = 1000\n",
        "EMBEDDING_DIM = 16\n",
        "MAXLEN = 120\n",
        "PADDING = 'post'\n",
        "OOV_TOKEN = \"<OOV>\"\n",
        "TRAINING_SPLIT = .9"
      ],
      "metadata": {
        "id": "l-JGuu8niBAj"
      },
      "execution_count": 30,
      "outputs": []
    },
    {
      "cell_type": "code",
      "source": [
        "# grader-required-cell\n",
        "\n",
        "def remove_stopwords(sentence):\n",
        "    \"\"\"\n",
        "    Removes a list of stopwords\n",
        "    \n",
        "    Args:\n",
        "        sentence (string): sentence to remove the stopwords from\n",
        "    \n",
        "    Returns:\n",
        "        sentence (string): lowercase sentence without the stopwords\n",
        "    \"\"\"\n",
        "    # List of stopwords\n",
        "    stopwords = [\"a\", \"about\", \"above\", \"after\", \"again\", \"against\", \"all\", \"am\", \"an\", \"and\", \"any\", \"are\", \"as\", \"at\", \"be\", \"because\", \"been\", \"before\", \"being\", \"below\", \"between\", \"both\", \"but\", \"by\", \"could\", \"did\", \"do\", \"does\", \"doing\", \"down\", \"during\", \"each\", \"few\", \"for\", \"from\", \"further\", \"had\", \"has\", \"have\", \"having\", \"he\", \"he'd\", \"he'll\", \"he's\", \"her\", \"here\", \"here's\", \"hers\", \"herself\", \"him\", \"himself\", \"his\", \"how\", \"how's\", \"i\", \"i'd\", \"i'll\", \"i'm\", \"i've\", \"if\", \"in\", \"into\", \"is\", \"it\", \"it's\", \"its\", \"itself\", \"let's\", \"me\", \"more\", \"most\", \"my\", \"myself\", \"nor\", \"of\", \"on\", \"once\", \"only\", \"or\", \"other\", \"ought\", \"our\", \"ours\", \"ourselves\", \"out\", \"over\", \"own\", \"same\", \"she\", \"she'd\", \"she'll\", \"she's\", \"should\", \"so\", \"some\", \"such\", \"than\", \"that\", \"that's\", \"the\", \"their\", \"theirs\", \"them\", \"themselves\", \"then\", \"there\", \"there's\", \"these\", \"they\", \"they'd\", \"they'll\", \"they're\", \"they've\", \"this\", \"those\", \"through\", \"to\", \"too\", \"under\", \"until\", \"up\", \"very\", \"was\", \"we\", \"we'd\", \"we'll\", \"we're\", \"we've\", \"were\", \"what\", \"what's\", \"when\", \"when's\", \"where\", \"where's\", \"which\", \"while\", \"who\", \"who's\", \"whom\", \"why\", \"why's\", \"with\", \"would\", \"you\", \"you'd\", \"you'll\", \"you're\", \"you've\", \"your\", \"yours\", \"yourself\", \"yourselves\" ]\n",
        "    \n",
        "    # Sentence converted to lowercase-only\n",
        "    sentence = sentence.lower()\n",
        "\n",
        "    words = sentence.split()\n",
        "    no_words = [w for w in words if w not in stopwords]\n",
        "    sentence = \" \".join(no_words)\n",
        "\n",
        "    return sentence\n",
        "\n",
        "\n",
        "def parse_data_from_file(filename):\n",
        "    \"\"\"\n",
        "    Extracts sentences and labels from a CSV file\n",
        "    \n",
        "    Args:\n",
        "        filename (string): path to the CSV file\n",
        "    \n",
        "    Returns:\n",
        "        sentences, labels (list of string, list of string): tuple containing lists of sentences and labels\n",
        "    \"\"\"\n",
        "    sentences = []\n",
        "    labels = []\n",
        "    with open(filename, 'r') as csvfile:\n",
        "        reader = csv.reader(csvfile, delimiter=',')\n",
        "        next(reader)\n",
        "        for row in reader:\n",
        "            labels.append(row[2])\n",
        "            sentence = row[1]\n",
        "            sentence = remove_stopwords(sentence)\n",
        "            sentences.append(sentence)\n",
        "\n",
        "    return sentences, labels"
      ],
      "metadata": {
        "id": "Pm8pY11LiDv2"
      },
      "execution_count": 27,
      "outputs": []
    },
    {
      "cell_type": "code",
      "source": [
        "df.head()"
      ],
      "metadata": {
        "colab": {
          "base_uri": "https://localhost:8080/",
          "height": 206
        },
        "id": "Y2FEL1vJirOa",
        "outputId": "bd0742ed-3014-45e4-987f-131c02f5f91e"
      },
      "execution_count": 26,
      "outputs": [
        {
          "output_type": "execute_result",
          "data": {
            "text/plain": [
              "   ArticleId                                               Text  Category\n",
              "0       1833  worldcom ex-boss launches defence lawyers defe...  business\n",
              "1        154  german business confidence slides german busin...  business\n",
              "2       1101  bbc poll indicates economic gloom citizens in ...  business\n",
              "3       1976  lifestyle  governs mobile choice  faster  bett...      tech\n",
              "4        917  enron bosses in $168m payout eighteen former e...  business"
            ],
            "text/html": [
              "\n",
              "  <div id=\"df-9db37a07-998c-4f5f-a234-7de419526ab0\">\n",
              "    <div class=\"colab-df-container\">\n",
              "      <div>\n",
              "<style scoped>\n",
              "    .dataframe tbody tr th:only-of-type {\n",
              "        vertical-align: middle;\n",
              "    }\n",
              "\n",
              "    .dataframe tbody tr th {\n",
              "        vertical-align: top;\n",
              "    }\n",
              "\n",
              "    .dataframe thead th {\n",
              "        text-align: right;\n",
              "    }\n",
              "</style>\n",
              "<table border=\"1\" class=\"dataframe\">\n",
              "  <thead>\n",
              "    <tr style=\"text-align: right;\">\n",
              "      <th></th>\n",
              "      <th>ArticleId</th>\n",
              "      <th>Text</th>\n",
              "      <th>Category</th>\n",
              "    </tr>\n",
              "  </thead>\n",
              "  <tbody>\n",
              "    <tr>\n",
              "      <th>0</th>\n",
              "      <td>1833</td>\n",
              "      <td>worldcom ex-boss launches defence lawyers defe...</td>\n",
              "      <td>business</td>\n",
              "    </tr>\n",
              "    <tr>\n",
              "      <th>1</th>\n",
              "      <td>154</td>\n",
              "      <td>german business confidence slides german busin...</td>\n",
              "      <td>business</td>\n",
              "    </tr>\n",
              "    <tr>\n",
              "      <th>2</th>\n",
              "      <td>1101</td>\n",
              "      <td>bbc poll indicates economic gloom citizens in ...</td>\n",
              "      <td>business</td>\n",
              "    </tr>\n",
              "    <tr>\n",
              "      <th>3</th>\n",
              "      <td>1976</td>\n",
              "      <td>lifestyle  governs mobile choice  faster  bett...</td>\n",
              "      <td>tech</td>\n",
              "    </tr>\n",
              "    <tr>\n",
              "      <th>4</th>\n",
              "      <td>917</td>\n",
              "      <td>enron bosses in $168m payout eighteen former e...</td>\n",
              "      <td>business</td>\n",
              "    </tr>\n",
              "  </tbody>\n",
              "</table>\n",
              "</div>\n",
              "      <button class=\"colab-df-convert\" onclick=\"convertToInteractive('df-9db37a07-998c-4f5f-a234-7de419526ab0')\"\n",
              "              title=\"Convert this dataframe to an interactive table.\"\n",
              "              style=\"display:none;\">\n",
              "        \n",
              "  <svg xmlns=\"http://www.w3.org/2000/svg\" height=\"24px\"viewBox=\"0 0 24 24\"\n",
              "       width=\"24px\">\n",
              "    <path d=\"M0 0h24v24H0V0z\" fill=\"none\"/>\n",
              "    <path d=\"M18.56 5.44l.94 2.06.94-2.06 2.06-.94-2.06-.94-.94-2.06-.94 2.06-2.06.94zm-11 1L8.5 8.5l.94-2.06 2.06-.94-2.06-.94L8.5 2.5l-.94 2.06-2.06.94zm10 10l.94 2.06.94-2.06 2.06-.94-2.06-.94-.94-2.06-.94 2.06-2.06.94z\"/><path d=\"M17.41 7.96l-1.37-1.37c-.4-.4-.92-.59-1.43-.59-.52 0-1.04.2-1.43.59L10.3 9.45l-7.72 7.72c-.78.78-.78 2.05 0 2.83L4 21.41c.39.39.9.59 1.41.59.51 0 1.02-.2 1.41-.59l7.78-7.78 2.81-2.81c.8-.78.8-2.07 0-2.86zM5.41 20L4 18.59l7.72-7.72 1.47 1.35L5.41 20z\"/>\n",
              "  </svg>\n",
              "      </button>\n",
              "      \n",
              "  <style>\n",
              "    .colab-df-container {\n",
              "      display:flex;\n",
              "      flex-wrap:wrap;\n",
              "      gap: 12px;\n",
              "    }\n",
              "\n",
              "    .colab-df-convert {\n",
              "      background-color: #E8F0FE;\n",
              "      border: none;\n",
              "      border-radius: 50%;\n",
              "      cursor: pointer;\n",
              "      display: none;\n",
              "      fill: #1967D2;\n",
              "      height: 32px;\n",
              "      padding: 0 0 0 0;\n",
              "      width: 32px;\n",
              "    }\n",
              "\n",
              "    .colab-df-convert:hover {\n",
              "      background-color: #E2EBFA;\n",
              "      box-shadow: 0px 1px 2px rgba(60, 64, 67, 0.3), 0px 1px 3px 1px rgba(60, 64, 67, 0.15);\n",
              "      fill: #174EA6;\n",
              "    }\n",
              "\n",
              "    [theme=dark] .colab-df-convert {\n",
              "      background-color: #3B4455;\n",
              "      fill: #D2E3FC;\n",
              "    }\n",
              "\n",
              "    [theme=dark] .colab-df-convert:hover {\n",
              "      background-color: #434B5C;\n",
              "      box-shadow: 0px 1px 3px 1px rgba(0, 0, 0, 0.15);\n",
              "      filter: drop-shadow(0px 1px 2px rgba(0, 0, 0, 0.3));\n",
              "      fill: #FFFFFF;\n",
              "    }\n",
              "  </style>\n",
              "\n",
              "      <script>\n",
              "        const buttonEl =\n",
              "          document.querySelector('#df-9db37a07-998c-4f5f-a234-7de419526ab0 button.colab-df-convert');\n",
              "        buttonEl.style.display =\n",
              "          google.colab.kernel.accessAllowed ? 'block' : 'none';\n",
              "\n",
              "        async function convertToInteractive(key) {\n",
              "          const element = document.querySelector('#df-9db37a07-998c-4f5f-a234-7de419526ab0');\n",
              "          const dataTable =\n",
              "            await google.colab.kernel.invokeFunction('convertToInteractive',\n",
              "                                                     [key], {});\n",
              "          if (!dataTable) return;\n",
              "\n",
              "          const docLinkHtml = 'Like what you see? Visit the ' +\n",
              "            '<a target=\"_blank\" href=https://colab.research.google.com/notebooks/data_table.ipynb>data table notebook</a>'\n",
              "            + ' to learn more about interactive tables.';\n",
              "          element.innerHTML = '';\n",
              "          dataTable['output_type'] = 'display_data';\n",
              "          await google.colab.output.renderOutput(dataTable, element);\n",
              "          const docLink = document.createElement('div');\n",
              "          docLink.innerHTML = docLinkHtml;\n",
              "          element.appendChild(docLink);\n",
              "        }\n",
              "      </script>\n",
              "    </div>\n",
              "  </div>\n",
              "  "
            ]
          },
          "metadata": {},
          "execution_count": 26
        }
      ]
    },
    {
      "cell_type": "code",
      "source": [
        "# grader-required-cell\n",
        "\n",
        "# Test the functions\n",
        "sentences, labels = parse_data_from_file(\"/content/BBC News Train.csv\")\n",
        "\n",
        "print(f\"There are {len(sentences)} sentences in the dataset.\\n\")\n",
        "print(f\"First sentence has {len(sentences[0].split())} words (after removing stopwords).\\n\")\n",
        "print(f\"There are {len(labels)} labels in the dataset.\\n\")\n",
        "print(f\"The first 5 labels are {labels[:5]}\")\n",
        "print(f\"The first 2 sentences are {sentences[:2]}\")"
      ],
      "metadata": {
        "colab": {
          "base_uri": "https://localhost:8080/"
        },
        "id": "sPj-Pnk-iXvY",
        "outputId": "d8a3feca-6899-4377-8226-2b93a0485959"
      },
      "execution_count": 29,
      "outputs": [
        {
          "output_type": "stream",
          "name": "stdout",
          "text": [
            "There are 1490 sentences in the dataset.\n",
            "\n",
            "First sentence has 203 words (after removing stopwords).\n",
            "\n",
            "There are 1490 labels in the dataset.\n",
            "\n",
            "The first 5 labels are ['business', 'business', 'business', 'tech', 'business']\n",
            "The first 2 sentences are ['worldcom ex-boss launches defence lawyers defending former worldcom chief bernie ebbers battery fraud charges called company whistleblower first witness. cynthia cooper worldcom s ex-head internal accounting alerted directors irregular accounting practices us telecoms giant 2002. warnings led collapse firm following discovery $11bn (£5.7bn) accounting fraud. mr ebbers pleaded not guilty charges fraud conspiracy. prosecution lawyers argued mr ebbers orchestrated series accounting tricks worldcom ordering employees hide expenses inflate revenues meet wall street earnings estimates. ms cooper now runs consulting business told jury new york wednesday external auditors arthur andersen approved worldcom s accounting early 2001 2002. said andersen given green light procedures practices used worldcom. mr ebber s lawyers said unaware fraud arguing auditors not alert problems. ms cooper also said shareholder meetings mr ebbers often passed technical questions company s finance chief giving brief answers himself. prosecution s star witness former worldcom financial chief scott sullivan said mr ebbers ordered accounting adjustments firm telling hit books . however ms cooper said mr sullivan not mentioned anything uncomfortable worldcom s accounting 2001 audit committee meeting. mr ebbers face jail sentence 85 years convicted charges facing. worldcom emerged bankruptcy protection 2004 now known mci. last week mci agreed buyout verizon communications deal valued $6.75bn.', 'german business confidence slides german business confidence fell february knocking hopes speedy recovery europe s largest economy. munich-based research institute ifo said confidence index fell 95.5 february 97.5 january first decline three months. study found outlook manufacturing retail sectors worsened. observers hoping confident business sector signal economic activity picking up. re surprised ifo index taken knock said dz bank economist bernd weidensteiner. main reason probably domestic economy still weak particularly retail trade. economy labour minister wolfgang clement called dip february s ifo confidence figure mild decline . said despite retreat index remained relatively high level expected modest economic upswing continue. germany s economy grew 1.6% last year shrinking 2003. however economy contracted 0.2% last three months 2004 mainly due reluctance consumers spend. latest indications growth still proving elusive ifo president hans-werner sinn said improvement german domestic demand sluggish. exports kept things going first half 2004 demand exports hit value euro hit record levels making german products less competitive overseas. top unemployment rate stuck close 10% manufacturing firms including daimlerchrysler siemens volkswagen negotiating unions cost cutting measures. analysts said ifo figures germany s continuing problems may delay interest rate rise european central bank. eurozone interest rates 2% comments senior officials recently focused threat inflation prompting fears interest rates may rise.']\n"
          ]
        }
      ]
    },
    {
      "cell_type": "code",
      "source": [
        "# grader-required-cell\n",
        "\n",
        "# GRADED FUNCTIONS: train_val_split\n",
        "def train_val_split(sentences, labels, training_split):\n",
        "    \"\"\"\n",
        "    Splits the dataset into training and validation sets\n",
        "    \n",
        "    Args:\n",
        "        sentences (list of string): lower-cased sentences without stopwords\n",
        "        labels (list of string): list of labels\n",
        "        training split (float): proportion of the dataset to convert to include in the train set\n",
        "    \n",
        "    Returns:\n",
        "        train_sentences, validation_sentences, train_labels, validation_labels - lists containing the data splits\n",
        "    \"\"\"\n",
        "    \n",
        "    ### START CODE HERE\n",
        "    \n",
        "    # Compute the number of sentences that will be used for training (should be an integer)\n",
        "    train_size = int(len(sentences) * training_split)\n",
        "\n",
        "    # Split the sentences and labels into train/validation splits\n",
        "    train_sentences = sentences[:train_size]\n",
        "    train_labels = labels[:train_size]\n",
        "\n",
        "    validation_sentences = sentences[train_size:]\n",
        "    validation_labels = labels[train_size:]\n",
        "    \n",
        "    ### END CODE HERE\n",
        "    \n",
        "    return train_sentences, validation_sentences, train_labels, validation_labels"
      ],
      "metadata": {
        "id": "0xqFPRZWjgJz"
      },
      "execution_count": 31,
      "outputs": []
    },
    {
      "cell_type": "code",
      "source": [
        "# grader-required-cell\n",
        "\n",
        "# Test your function\n",
        "train_sentences, val_sentences, train_labels, val_labels = train_val_split(sentences, labels, TRAINING_SPLIT)\n",
        "\n",
        "print(f\"There are {len(train_sentences)} sentences for training.\\n\")\n",
        "print(f\"There are {len(train_labels)} labels for training.\\n\")\n",
        "print(f\"There are {len(val_sentences)} sentences for validation.\\n\")\n",
        "print(f\"There are {len(val_labels)} labels for validation.\")"
      ],
      "metadata": {
        "colab": {
          "base_uri": "https://localhost:8080/"
        },
        "id": "jUidbuvqj2rF",
        "outputId": "9d4456a4-b9b9-4a11-b67e-1d5f2b2f2bf0"
      },
      "execution_count": 32,
      "outputs": [
        {
          "output_type": "stream",
          "name": "stdout",
          "text": [
            "There are 1341 sentences for training.\n",
            "\n",
            "There are 1341 labels for training.\n",
            "\n",
            "There are 149 sentences for validation.\n",
            "\n",
            "There are 149 labels for validation.\n"
          ]
        }
      ]
    },
    {
      "cell_type": "code",
      "source": [
        "# grader-required-cell\n",
        "\n",
        "# GRADED FUNCTION: fit_tokenizer\n",
        "def fit_tokenizer(train_sentences, num_words, oov_token):\n",
        "    \"\"\"\n",
        "    Instantiates the Tokenizer class on the training sentences\n",
        "    \n",
        "    Args:\n",
        "        train_sentences (list of string): lower-cased sentences without stopwords to be used for training\n",
        "        num_words (int) - number of words to keep when tokenizing\n",
        "        oov_token (string) - symbol for the out-of-vocabulary token\n",
        "    \n",
        "    Returns:\n",
        "        tokenizer (object): an instance of the Tokenizer class containing the word-index dictionary\n",
        "    \"\"\"\n",
        "    \n",
        "    ### START CODE HERE\n",
        "    \n",
        "    # Instantiate the Tokenizer class, passing in the correct values for num_words and oov_token\n",
        "    tokenizer = Tokenizer(num_words=num_words, oov_token=oov_token)\n",
        "    \n",
        "    # Fit the tokenizer to the training sentences\n",
        "    tokenizer.fit_on_texts(train_sentences)\n",
        "    \n",
        "    ### END CODE HERE\n",
        "    \n",
        "    return tokenizer"
      ],
      "metadata": {
        "id": "EoXog16Dj7Hk"
      },
      "execution_count": 33,
      "outputs": []
    },
    {
      "cell_type": "code",
      "source": [
        "# grader-required-cell\n",
        "\n",
        "# Test your function\n",
        "tokenizer = fit_tokenizer(train_sentences, NUM_WORDS, OOV_TOKEN)\n",
        "word_index = tokenizer.word_index\n",
        "\n",
        "print(f\"Vocabulary contains {len(word_index)} words\\n\")\n",
        "print(\"<OOV> token included in vocabulary\" if \"<OOV>\" in word_index else \"<OOV> token NOT included in vocabulary\")"
      ],
      "metadata": {
        "colab": {
          "base_uri": "https://localhost:8080/"
        },
        "id": "0e25EBAcj973",
        "outputId": "63fa416a-f432-4384-c2f8-ad180aca50a0"
      },
      "execution_count": 34,
      "outputs": [
        {
          "output_type": "stream",
          "name": "stdout",
          "text": [
            "Vocabulary contains 23886 words\n",
            "\n",
            "<OOV> token included in vocabulary\n"
          ]
        }
      ]
    },
    {
      "cell_type": "code",
      "source": [
        "# grader-required-cell\n",
        "\n",
        "# GRADED FUNCTION: seq_and_pad\n",
        "def seq_and_pad(sentences, tokenizer, padding, maxlen):\n",
        "    \"\"\"\n",
        "    Generates an array of token sequences and pads them to the same length\n",
        "    \n",
        "    Args:\n",
        "        sentences (list of string): list of sentences to tokenize and pad\n",
        "        tokenizer (object): Tokenizer instance containing the word-index dictionary\n",
        "        padding (string): type of padding to use\n",
        "        maxlen (int): maximum length of the token sequence\n",
        "    \n",
        "    Returns:\n",
        "        padded_sequences (array of int): tokenized sentences padded to the same length\n",
        "    \"\"\" \n",
        "    \n",
        "    ### START CODE HERE\n",
        "       \n",
        "    # Convert sentences to sequences\n",
        "    sequences = tokenizer.texts_to_sequences(sentences)\n",
        "    \n",
        "    # Pad the sequences using the correct padding and maxlen\n",
        "    padded_sequences = pad_sequences(sequences, padding=padding, maxlen=maxlen)\n",
        "    \n",
        "    ### END CODE HERE\n",
        "    \n",
        "    return padded_sequences"
      ],
      "metadata": {
        "id": "mhfG6b7pkDWU"
      },
      "execution_count": 35,
      "outputs": []
    },
    {
      "cell_type": "code",
      "source": [
        "# grader-required-cell\n",
        "\n",
        "# Test your function\n",
        "train_padded_seq = seq_and_pad(train_sentences, tokenizer, PADDING, MAXLEN)\n",
        "val_padded_seq = seq_and_pad(val_sentences, tokenizer, PADDING, MAXLEN)\n",
        "\n",
        "print(f\"Padded training sequences have shape: {train_padded_seq.shape}\\n\")\n",
        "print(f\"Padded validation sequences have shape: {val_padded_seq.shape}\")"
      ],
      "metadata": {
        "colab": {
          "base_uri": "https://localhost:8080/"
        },
        "id": "CGkA9rL2k51N",
        "outputId": "4fe1c83a-5060-4879-e8bc-257d509687dc"
      },
      "execution_count": 39,
      "outputs": [
        {
          "output_type": "stream",
          "name": "stdout",
          "text": [
            "Padded training sequences have shape: (1341, 120)\n",
            "\n",
            "Padded validation sequences have shape: (149, 120)\n"
          ]
        }
      ]
    },
    {
      "cell_type": "code",
      "source": [
        "# grader-required-cell\n",
        "\n",
        "# GRADED FUNCTION: tokenize_labels\n",
        "def tokenize_labels(all_labels, split_labels):\n",
        "    \"\"\"\n",
        "    Tokenizes the labels\n",
        "    \n",
        "    Args:\n",
        "        all_labels (list of string): labels to generate the word-index from\n",
        "        split_labels (list of string): labels to tokenize\n",
        "    \n",
        "    Returns:\n",
        "        label_seq_np (array of int): tokenized labels\n",
        "    \"\"\"\n",
        "    \n",
        "    ### START CODE HERE\n",
        "    \n",
        "    # Instantiate the Tokenizer (no additional arguments needed)\n",
        "    label_tokenizer = Tokenizer()\n",
        "    \n",
        "    # Fit the tokenizer on all the labels\n",
        "    label_tokenizer.fit_on_texts(all_labels)\n",
        "\n",
        "    # Convert labels to sequences\n",
        "    label_seq = label_tokenizer.texts_to_sequences(split_labels)\n",
        "    \n",
        "    # Convert sequences to a numpy array. Don't forget to substact 1 from every entry in the array!\n",
        "    label_seq_np = np.array(label_seq) - 1\n",
        "    \n",
        "    ### END CODE HERE\n",
        "    \n",
        "    return label_seq_np"
      ],
      "metadata": {
        "id": "f9aRqVEPk_ss"
      },
      "execution_count": 40,
      "outputs": []
    },
    {
      "cell_type": "code",
      "source": [
        "# grader-required-cell\n",
        "\n",
        "# Test your function\n",
        "train_label_seq = tokenize_labels(labels, train_labels)\n",
        "val_label_seq = tokenize_labels(labels, val_labels)\n",
        "\n",
        "print(f\"First 5 labels of the training set should look like this:\\n{train_label_seq[:5]}\\n\")\n",
        "print(f\"First 5 labels of the validation set should look like this:\\n{val_label_seq[:5]}\\n\")\n",
        "print(f\"Tokenized labels of the training set have shape: {train_label_seq.shape}\\n\")\n",
        "print(f\"Tokenized labels of the validation set have shape: {val_label_seq.shape}\\n\")"
      ],
      "metadata": {
        "colab": {
          "base_uri": "https://localhost:8080/"
        },
        "id": "IzCMtWiMlCXU",
        "outputId": "49c4a138-0c81-45fe-9b74-56f5898ba1ea"
      },
      "execution_count": 41,
      "outputs": [
        {
          "output_type": "stream",
          "name": "stdout",
          "text": [
            "First 5 labels of the training set should look like this:\n",
            "[[1]\n",
            " [1]\n",
            " [1]\n",
            " [4]\n",
            " [1]]\n",
            "\n",
            "First 5 labels of the validation set should look like this:\n",
            "[[1]\n",
            " [3]\n",
            " [0]\n",
            " [4]\n",
            " [4]]\n",
            "\n",
            "Tokenized labels of the training set have shape: (1341, 1)\n",
            "\n",
            "Tokenized labels of the validation set have shape: (149, 1)\n",
            "\n"
          ]
        }
      ]
    },
    {
      "cell_type": "code",
      "source": [
        "# grader-required-cell\n",
        "\n",
        "# GRADED FUNCTION: create_model\n",
        "def create_model(num_words, embedding_dim, maxlen):\n",
        "    \"\"\"\n",
        "    Creates a text classifier model\n",
        "    \n",
        "    Args:\n",
        "        num_words (int): size of the vocabulary for the Embedding layer input\n",
        "        embedding_dim (int): dimensionality of the Embedding layer output\n",
        "        maxlen (int): length of the input sequences\n",
        "    \n",
        "    Returns:\n",
        "        model (tf.keras Model): the text classifier model\n",
        "    \"\"\"\n",
        "    \n",
        "    tf.random.set_seed(123)\n",
        "    \n",
        "    ### START CODE HERE\n",
        "    \n",
        "    model = tf.keras.Sequential([\n",
        "        tf.keras.layers.Embedding(num_words, embedding_dim, input_length=maxlen),\n",
        "        tf.keras.layers.GlobalAveragePooling1D(),\n",
        "        tf.keras.layers.Dense(16, activation='relu'),\n",
        "        tf.keras.layers.Dense(5, activation='softmax')\n",
        "    ])\n",
        "    \n",
        "    model.compile(loss='sparse_categorical_crossentropy',\n",
        "                  optimizer='adam',\n",
        "                  metrics=['accuracy'])\n",
        "\n",
        "    ### END CODE HERE\n",
        "\n",
        "    return model"
      ],
      "metadata": {
        "id": "MmtrZ_A2lHdN"
      },
      "execution_count": 42,
      "outputs": []
    },
    {
      "cell_type": "code",
      "source": [
        "\n",
        "model = create_model(NUM_WORDS, EMBEDDING_DIM, MAXLEN)\n",
        "\n",
        "history = model.fit(train_padded_seq, train_label_seq, epochs=100, validation_data=(val_padded_seq, val_label_seq))"
      ],
      "metadata": {
        "colab": {
          "base_uri": "https://localhost:8080/"
        },
        "id": "qHF8LoGWlNOk",
        "outputId": "fa0d16b5-79fd-41b0-c581-0d81fdcc94e5"
      },
      "execution_count": 44,
      "outputs": [
        {
          "output_type": "stream",
          "name": "stdout",
          "text": [
            "Epoch 1/100\n",
            "42/42 [==============================] - 1s 8ms/step - loss: 1.6024 - accuracy: 0.2334 - val_loss: 1.5980 - val_accuracy: 0.2215\n",
            "Epoch 2/100\n",
            "42/42 [==============================] - 0s 5ms/step - loss: 1.5801 - accuracy: 0.2409 - val_loss: 1.5712 - val_accuracy: 0.2416\n",
            "Epoch 3/100\n",
            "42/42 [==============================] - 0s 4ms/step - loss: 1.5369 - accuracy: 0.3915 - val_loss: 1.5218 - val_accuracy: 0.3490\n",
            "Epoch 4/100\n",
            "42/42 [==============================] - 0s 4ms/step - loss: 1.4656 - accuracy: 0.5198 - val_loss: 1.4436 - val_accuracy: 0.4631\n",
            "Epoch 5/100\n",
            "42/42 [==============================] - 0s 4ms/step - loss: 1.3595 - accuracy: 0.6070 - val_loss: 1.3300 - val_accuracy: 0.5906\n",
            "Epoch 6/100\n",
            "42/42 [==============================] - 0s 4ms/step - loss: 1.2205 - accuracy: 0.6868 - val_loss: 1.1923 - val_accuracy: 0.6980\n",
            "Epoch 7/100\n",
            "42/42 [==============================] - 0s 4ms/step - loss: 1.0554 - accuracy: 0.7435 - val_loss: 1.0307 - val_accuracy: 0.7315\n",
            "Epoch 8/100\n",
            "42/42 [==============================] - 0s 4ms/step - loss: 0.8839 - accuracy: 0.8016 - val_loss: 0.8778 - val_accuracy: 0.8456\n",
            "Epoch 9/100\n",
            "42/42 [==============================] - 0s 5ms/step - loss: 0.7375 - accuracy: 0.8628 - val_loss: 0.7465 - val_accuracy: 0.8993\n",
            "Epoch 10/100\n",
            "42/42 [==============================] - 0s 4ms/step - loss: 0.6142 - accuracy: 0.9120 - val_loss: 0.6434 - val_accuracy: 0.9060\n",
            "Epoch 11/100\n",
            "42/42 [==============================] - 0s 4ms/step - loss: 0.5137 - accuracy: 0.9351 - val_loss: 0.5560 - val_accuracy: 0.9195\n",
            "Epoch 12/100\n",
            "42/42 [==============================] - 0s 4ms/step - loss: 0.4295 - accuracy: 0.9448 - val_loss: 0.4892 - val_accuracy: 0.9195\n",
            "Epoch 13/100\n",
            "42/42 [==============================] - 0s 4ms/step - loss: 0.3620 - accuracy: 0.9523 - val_loss: 0.4246 - val_accuracy: 0.9396\n",
            "Epoch 14/100\n",
            "42/42 [==============================] - 0s 5ms/step - loss: 0.3069 - accuracy: 0.9582 - val_loss: 0.3793 - val_accuracy: 0.9396\n",
            "Epoch 15/100\n",
            "42/42 [==============================] - 0s 4ms/step - loss: 0.2632 - accuracy: 0.9627 - val_loss: 0.3440 - val_accuracy: 0.9396\n",
            "Epoch 16/100\n",
            "42/42 [==============================] - 0s 4ms/step - loss: 0.2277 - accuracy: 0.9664 - val_loss: 0.3121 - val_accuracy: 0.9463\n",
            "Epoch 17/100\n",
            "42/42 [==============================] - 0s 4ms/step - loss: 0.1986 - accuracy: 0.9709 - val_loss: 0.2897 - val_accuracy: 0.9463\n",
            "Epoch 18/100\n",
            "42/42 [==============================] - 0s 5ms/step - loss: 0.1749 - accuracy: 0.9746 - val_loss: 0.2681 - val_accuracy: 0.9329\n",
            "Epoch 19/100\n",
            "42/42 [==============================] - 0s 4ms/step - loss: 0.1563 - accuracy: 0.9769 - val_loss: 0.2529 - val_accuracy: 0.9463\n",
            "Epoch 20/100\n",
            "42/42 [==============================] - 0s 5ms/step - loss: 0.1396 - accuracy: 0.9851 - val_loss: 0.2384 - val_accuracy: 0.9463\n",
            "Epoch 21/100\n",
            "42/42 [==============================] - 0s 4ms/step - loss: 0.1257 - accuracy: 0.9843 - val_loss: 0.2282 - val_accuracy: 0.9530\n",
            "Epoch 22/100\n",
            "42/42 [==============================] - 0s 4ms/step - loss: 0.1134 - accuracy: 0.9881 - val_loss: 0.2163 - val_accuracy: 0.9396\n",
            "Epoch 23/100\n",
            "42/42 [==============================] - 0s 5ms/step - loss: 0.1040 - accuracy: 0.9881 - val_loss: 0.2055 - val_accuracy: 0.9463\n",
            "Epoch 24/100\n",
            "42/42 [==============================] - 0s 5ms/step - loss: 0.0938 - accuracy: 0.9888 - val_loss: 0.2011 - val_accuracy: 0.9530\n",
            "Epoch 25/100\n",
            "42/42 [==============================] - 0s 6ms/step - loss: 0.0858 - accuracy: 0.9896 - val_loss: 0.1940 - val_accuracy: 0.9597\n",
            "Epoch 26/100\n",
            "42/42 [==============================] - 0s 6ms/step - loss: 0.0780 - accuracy: 0.9903 - val_loss: 0.1890 - val_accuracy: 0.9597\n",
            "Epoch 27/100\n",
            "42/42 [==============================] - 0s 6ms/step - loss: 0.0712 - accuracy: 0.9903 - val_loss: 0.1812 - val_accuracy: 0.9530\n",
            "Epoch 28/100\n",
            "42/42 [==============================] - 0s 7ms/step - loss: 0.0651 - accuracy: 0.9940 - val_loss: 0.1769 - val_accuracy: 0.9597\n",
            "Epoch 29/100\n",
            "42/42 [==============================] - 0s 6ms/step - loss: 0.0596 - accuracy: 0.9940 - val_loss: 0.1724 - val_accuracy: 0.9597\n",
            "Epoch 30/100\n",
            "42/42 [==============================] - 0s 7ms/step - loss: 0.0547 - accuracy: 0.9963 - val_loss: 0.1685 - val_accuracy: 0.9597\n",
            "Epoch 31/100\n",
            "42/42 [==============================] - 0s 8ms/step - loss: 0.0504 - accuracy: 0.9963 - val_loss: 0.1650 - val_accuracy: 0.9664\n",
            "Epoch 32/100\n",
            "42/42 [==============================] - 0s 6ms/step - loss: 0.0463 - accuracy: 0.9978 - val_loss: 0.1619 - val_accuracy: 0.9664\n",
            "Epoch 33/100\n",
            "42/42 [==============================] - 0s 6ms/step - loss: 0.0427 - accuracy: 0.9985 - val_loss: 0.1585 - val_accuracy: 0.9597\n",
            "Epoch 34/100\n",
            "42/42 [==============================] - 0s 5ms/step - loss: 0.0392 - accuracy: 0.9985 - val_loss: 0.1565 - val_accuracy: 0.9597\n",
            "Epoch 35/100\n",
            "42/42 [==============================] - 0s 5ms/step - loss: 0.0364 - accuracy: 0.9985 - val_loss: 0.1547 - val_accuracy: 0.9732\n",
            "Epoch 36/100\n",
            "42/42 [==============================] - 0s 7ms/step - loss: 0.0335 - accuracy: 0.9985 - val_loss: 0.1519 - val_accuracy: 0.9597\n",
            "Epoch 37/100\n",
            "42/42 [==============================] - 0s 6ms/step - loss: 0.0311 - accuracy: 1.0000 - val_loss: 0.1500 - val_accuracy: 0.9664\n",
            "Epoch 38/100\n",
            "42/42 [==============================] - 0s 6ms/step - loss: 0.0288 - accuracy: 1.0000 - val_loss: 0.1493 - val_accuracy: 0.9664\n",
            "Epoch 39/100\n",
            "42/42 [==============================] - 0s 7ms/step - loss: 0.0267 - accuracy: 1.0000 - val_loss: 0.1472 - val_accuracy: 0.9732\n",
            "Epoch 40/100\n",
            "42/42 [==============================] - 0s 7ms/step - loss: 0.0250 - accuracy: 1.0000 - val_loss: 0.1464 - val_accuracy: 0.9664\n",
            "Epoch 41/100\n",
            "42/42 [==============================] - 0s 6ms/step - loss: 0.0231 - accuracy: 1.0000 - val_loss: 0.1439 - val_accuracy: 0.9732\n",
            "Epoch 42/100\n",
            "42/42 [==============================] - 0s 6ms/step - loss: 0.0216 - accuracy: 1.0000 - val_loss: 0.1432 - val_accuracy: 0.9732\n",
            "Epoch 43/100\n",
            "42/42 [==============================] - 0s 6ms/step - loss: 0.0201 - accuracy: 1.0000 - val_loss: 0.1420 - val_accuracy: 0.9732\n",
            "Epoch 44/100\n",
            "42/42 [==============================] - 0s 6ms/step - loss: 0.0188 - accuracy: 1.0000 - val_loss: 0.1410 - val_accuracy: 0.9732\n",
            "Epoch 45/100\n",
            "42/42 [==============================] - 0s 5ms/step - loss: 0.0176 - accuracy: 1.0000 - val_loss: 0.1401 - val_accuracy: 0.9732\n",
            "Epoch 46/100\n",
            "42/42 [==============================] - 0s 4ms/step - loss: 0.0165 - accuracy: 1.0000 - val_loss: 0.1394 - val_accuracy: 0.9732\n",
            "Epoch 47/100\n",
            "42/42 [==============================] - 0s 4ms/step - loss: 0.0155 - accuracy: 1.0000 - val_loss: 0.1388 - val_accuracy: 0.9732\n",
            "Epoch 48/100\n",
            "42/42 [==============================] - 0s 4ms/step - loss: 0.0145 - accuracy: 1.0000 - val_loss: 0.1382 - val_accuracy: 0.9732\n",
            "Epoch 49/100\n",
            "42/42 [==============================] - 0s 4ms/step - loss: 0.0136 - accuracy: 1.0000 - val_loss: 0.1378 - val_accuracy: 0.9732\n",
            "Epoch 50/100\n",
            "42/42 [==============================] - 0s 4ms/step - loss: 0.0129 - accuracy: 1.0000 - val_loss: 0.1365 - val_accuracy: 0.9732\n",
            "Epoch 51/100\n",
            "42/42 [==============================] - 0s 4ms/step - loss: 0.0122 - accuracy: 1.0000 - val_loss: 0.1359 - val_accuracy: 0.9732\n",
            "Epoch 52/100\n",
            "42/42 [==============================] - 0s 4ms/step - loss: 0.0114 - accuracy: 1.0000 - val_loss: 0.1362 - val_accuracy: 0.9732\n",
            "Epoch 53/100\n",
            "42/42 [==============================] - 0s 4ms/step - loss: 0.0108 - accuracy: 1.0000 - val_loss: 0.1351 - val_accuracy: 0.9732\n",
            "Epoch 54/100\n",
            "42/42 [==============================] - 0s 4ms/step - loss: 0.0102 - accuracy: 1.0000 - val_loss: 0.1352 - val_accuracy: 0.9732\n",
            "Epoch 55/100\n",
            "42/42 [==============================] - 0s 4ms/step - loss: 0.0097 - accuracy: 1.0000 - val_loss: 0.1350 - val_accuracy: 0.9732\n",
            "Epoch 56/100\n",
            "42/42 [==============================] - 0s 4ms/step - loss: 0.0092 - accuracy: 1.0000 - val_loss: 0.1345 - val_accuracy: 0.9732\n",
            "Epoch 57/100\n",
            "42/42 [==============================] - 0s 4ms/step - loss: 0.0087 - accuracy: 1.0000 - val_loss: 0.1345 - val_accuracy: 0.9799\n",
            "Epoch 58/100\n",
            "42/42 [==============================] - 0s 4ms/step - loss: 0.0082 - accuracy: 1.0000 - val_loss: 0.1338 - val_accuracy: 0.9799\n",
            "Epoch 59/100\n",
            "42/42 [==============================] - 0s 4ms/step - loss: 0.0078 - accuracy: 1.0000 - val_loss: 0.1339 - val_accuracy: 0.9732\n",
            "Epoch 60/100\n",
            "42/42 [==============================] - 0s 4ms/step - loss: 0.0074 - accuracy: 1.0000 - val_loss: 0.1336 - val_accuracy: 0.9799\n",
            "Epoch 61/100\n",
            "42/42 [==============================] - 0s 4ms/step - loss: 0.0071 - accuracy: 1.0000 - val_loss: 0.1338 - val_accuracy: 0.9799\n",
            "Epoch 62/100\n",
            "42/42 [==============================] - 0s 4ms/step - loss: 0.0067 - accuracy: 1.0000 - val_loss: 0.1332 - val_accuracy: 0.9799\n",
            "Epoch 63/100\n",
            "42/42 [==============================] - 0s 4ms/step - loss: 0.0064 - accuracy: 1.0000 - val_loss: 0.1330 - val_accuracy: 0.9799\n",
            "Epoch 64/100\n",
            "42/42 [==============================] - 0s 4ms/step - loss: 0.0061 - accuracy: 1.0000 - val_loss: 0.1333 - val_accuracy: 0.9799\n",
            "Epoch 65/100\n",
            "42/42 [==============================] - 0s 4ms/step - loss: 0.0058 - accuracy: 1.0000 - val_loss: 0.1330 - val_accuracy: 0.9799\n",
            "Epoch 66/100\n",
            "42/42 [==============================] - 0s 4ms/step - loss: 0.0056 - accuracy: 1.0000 - val_loss: 0.1333 - val_accuracy: 0.9799\n",
            "Epoch 67/100\n",
            "42/42 [==============================] - 0s 4ms/step - loss: 0.0053 - accuracy: 1.0000 - val_loss: 0.1332 - val_accuracy: 0.9799\n",
            "Epoch 68/100\n",
            "42/42 [==============================] - 0s 4ms/step - loss: 0.0051 - accuracy: 1.0000 - val_loss: 0.1331 - val_accuracy: 0.9799\n",
            "Epoch 69/100\n",
            "42/42 [==============================] - 0s 4ms/step - loss: 0.0048 - accuracy: 1.0000 - val_loss: 0.1329 - val_accuracy: 0.9799\n",
            "Epoch 70/100\n",
            "42/42 [==============================] - 0s 4ms/step - loss: 0.0046 - accuracy: 1.0000 - val_loss: 0.1331 - val_accuracy: 0.9799\n",
            "Epoch 71/100\n",
            "42/42 [==============================] - 0s 4ms/step - loss: 0.0044 - accuracy: 1.0000 - val_loss: 0.1332 - val_accuracy: 0.9799\n",
            "Epoch 72/100\n",
            "42/42 [==============================] - 0s 5ms/step - loss: 0.0042 - accuracy: 1.0000 - val_loss: 0.1330 - val_accuracy: 0.9799\n",
            "Epoch 73/100\n",
            "42/42 [==============================] - 0s 4ms/step - loss: 0.0041 - accuracy: 1.0000 - val_loss: 0.1330 - val_accuracy: 0.9799\n",
            "Epoch 74/100\n",
            "42/42 [==============================] - 0s 5ms/step - loss: 0.0039 - accuracy: 1.0000 - val_loss: 0.1334 - val_accuracy: 0.9799\n",
            "Epoch 75/100\n",
            "42/42 [==============================] - 0s 4ms/step - loss: 0.0037 - accuracy: 1.0000 - val_loss: 0.1329 - val_accuracy: 0.9799\n",
            "Epoch 76/100\n",
            "42/42 [==============================] - 0s 4ms/step - loss: 0.0036 - accuracy: 1.0000 - val_loss: 0.1332 - val_accuracy: 0.9799\n",
            "Epoch 77/100\n",
            "42/42 [==============================] - 0s 4ms/step - loss: 0.0034 - accuracy: 1.0000 - val_loss: 0.1335 - val_accuracy: 0.9799\n",
            "Epoch 78/100\n",
            "42/42 [==============================] - 0s 4ms/step - loss: 0.0033 - accuracy: 1.0000 - val_loss: 0.1333 - val_accuracy: 0.9799\n",
            "Epoch 79/100\n",
            "42/42 [==============================] - 0s 4ms/step - loss: 0.0032 - accuracy: 1.0000 - val_loss: 0.1339 - val_accuracy: 0.9799\n",
            "Epoch 80/100\n",
            "42/42 [==============================] - 0s 4ms/step - loss: 0.0030 - accuracy: 1.0000 - val_loss: 0.1336 - val_accuracy: 0.9799\n",
            "Epoch 81/100\n",
            "42/42 [==============================] - 0s 4ms/step - loss: 0.0029 - accuracy: 1.0000 - val_loss: 0.1337 - val_accuracy: 0.9799\n",
            "Epoch 82/100\n",
            "42/42 [==============================] - 0s 4ms/step - loss: 0.0028 - accuracy: 1.0000 - val_loss: 0.1337 - val_accuracy: 0.9799\n",
            "Epoch 83/100\n",
            "42/42 [==============================] - 0s 4ms/step - loss: 0.0027 - accuracy: 1.0000 - val_loss: 0.1342 - val_accuracy: 0.9799\n",
            "Epoch 84/100\n",
            "42/42 [==============================] - 0s 4ms/step - loss: 0.0026 - accuracy: 1.0000 - val_loss: 0.1341 - val_accuracy: 0.9799\n",
            "Epoch 85/100\n",
            "42/42 [==============================] - 0s 4ms/step - loss: 0.0025 - accuracy: 1.0000 - val_loss: 0.1343 - val_accuracy: 0.9799\n",
            "Epoch 86/100\n",
            "42/42 [==============================] - 0s 4ms/step - loss: 0.0024 - accuracy: 1.0000 - val_loss: 0.1346 - val_accuracy: 0.9799\n",
            "Epoch 87/100\n",
            "42/42 [==============================] - 0s 4ms/step - loss: 0.0023 - accuracy: 1.0000 - val_loss: 0.1343 - val_accuracy: 0.9799\n",
            "Epoch 88/100\n",
            "42/42 [==============================] - 0s 12ms/step - loss: 0.0022 - accuracy: 1.0000 - val_loss: 0.1345 - val_accuracy: 0.9799\n",
            "Epoch 89/100\n",
            "42/42 [==============================] - 0s 8ms/step - loss: 0.0022 - accuracy: 1.0000 - val_loss: 0.1345 - val_accuracy: 0.9799\n",
            "Epoch 90/100\n",
            "42/42 [==============================] - 0s 4ms/step - loss: 0.0021 - accuracy: 1.0000 - val_loss: 0.1348 - val_accuracy: 0.9799\n",
            "Epoch 91/100\n",
            "42/42 [==============================] - 0s 4ms/step - loss: 0.0020 - accuracy: 1.0000 - val_loss: 0.1349 - val_accuracy: 0.9799\n",
            "Epoch 92/100\n",
            "42/42 [==============================] - 0s 4ms/step - loss: 0.0019 - accuracy: 1.0000 - val_loss: 0.1352 - val_accuracy: 0.9799\n",
            "Epoch 93/100\n",
            "42/42 [==============================] - 0s 4ms/step - loss: 0.0019 - accuracy: 1.0000 - val_loss: 0.1354 - val_accuracy: 0.9799\n",
            "Epoch 94/100\n",
            "42/42 [==============================] - 0s 4ms/step - loss: 0.0018 - accuracy: 1.0000 - val_loss: 0.1353 - val_accuracy: 0.9799\n",
            "Epoch 95/100\n",
            "42/42 [==============================] - 0s 4ms/step - loss: 0.0017 - accuracy: 1.0000 - val_loss: 0.1361 - val_accuracy: 0.9799\n",
            "Epoch 96/100\n",
            "42/42 [==============================] - 0s 4ms/step - loss: 0.0017 - accuracy: 1.0000 - val_loss: 0.1363 - val_accuracy: 0.9799\n",
            "Epoch 97/100\n",
            "42/42 [==============================] - 0s 4ms/step - loss: 0.0016 - accuracy: 1.0000 - val_loss: 0.1358 - val_accuracy: 0.9799\n",
            "Epoch 98/100\n",
            "42/42 [==============================] - 0s 5ms/step - loss: 0.0016 - accuracy: 1.0000 - val_loss: 0.1364 - val_accuracy: 0.9799\n",
            "Epoch 99/100\n",
            "42/42 [==============================] - 0s 6ms/step - loss: 0.0015 - accuracy: 1.0000 - val_loss: 0.1366 - val_accuracy: 0.9799\n",
            "Epoch 100/100\n",
            "42/42 [==============================] - 0s 6ms/step - loss: 0.0015 - accuracy: 1.0000 - val_loss: 0.1366 - val_accuracy: 0.9799\n"
          ]
        }
      ]
    },
    {
      "cell_type": "code",
      "source": [
        "def plot_graphs(history, metric):\n",
        "    plt.plot(history.history[metric])\n",
        "    plt.plot(history.history[f'val_{metric}'])\n",
        "    plt.xlabel(\"Epochs\")\n",
        "    plt.ylabel(metric)\n",
        "    plt.legend([metric, f'val_{metric}'])\n",
        "    plt.show()\n",
        "    \n",
        "plot_graphs(history, \"accuracy\")\n",
        "plot_graphs(history, \"loss\")"
      ],
      "metadata": {
        "colab": {
          "base_uri": "https://localhost:8080/",
          "height": 881
        },
        "id": "xsO99KG-llQk",
        "outputId": "4d54553c-b57c-4c5a-f5a4-63df1d7d8521"
      },
      "execution_count": 45,
      "outputs": [
        {
          "output_type": "display_data",
          "data": {
            "text/plain": [
              "<Figure size 640x480 with 1 Axes>"
            ],
            "image/png": "[encoded data removed]"
          },
          "metadata": {}
        },
        {
          "output_type": "display_data",
          "data": {
            "text/plain": [
              "<Figure size 640x480 with 1 Axes>"
            ],
            "image/png": "[encoded data removed]"
          },
          "metadata": {}
        }
      ]
    },
    {
      "cell_type": "code",
      "source": [
        "dif.info()"
      ],
      "metadata": {
        "colab": {
          "base_uri": "https://localhost:8080/"
        },
        "id": "c6b0V0uLluAp",
        "outputId": "3f39b82b-7ccf-470d-f12a-178dd14583e9"
      },
      "execution_count": 47,
      "outputs": [
        {
          "output_type": "stream",
          "name": "stdout",
          "text": [
            "<class 'pandas.core.frame.DataFrame'>\n",
            "RangeIndex: 735 entries, 0 to 734\n",
            "Data columns (total 2 columns):\n",
            " #   Column     Non-Null Count  Dtype \n",
            "---  ------     --------------  ----- \n",
            " 0   ArticleId  735 non-null    int64 \n",
            " 1   Text       735 non-null    object\n",
            "dtypes: int64(1), object(1)\n",
            "memory usage: 11.6+ KB\n"
          ]
        }
      ]
    },
    {
      "cell_type": "code",
      "source": [
        "import random\n",
        "\n",
        "def predict_random_text(test_data, model, tokenizer):\n",
        "    # Choose a random index from the test data\n",
        "    random_index = random.randint(0, len(test_data) - 1)\n",
        "    \n",
        "    # Get the text at the chosen index\n",
        "    random_text = test_data.iloc[random_index]['Text']\n",
        "    \n",
        "    # Tokenize and pad the text\n",
        "    tokenized_text = tokenizer.texts_to_sequences([random_text])\n",
        "    padded_text = pad_sequences(tokenized_text, maxlen=MAXLEN, padding=PADDING)\n",
        "    \n",
        "    # Make a prediction\n",
        "    prediction = model.predict(padded_text)\n",
        "    predicted_category_index = np.argmax(prediction)\n",
        "    print(f\"index Text: {predicted_category_index}\")\n",
        "\n",
        "    # Convert the index to a category label\n",
        "    categories = ['sport', 'business', 'politics', 'entertainment', 'tech']\n",
        "    predicted_category = categories[predicted_category_index]\n",
        "    \n",
        "    return random_text, predicted_category\n",
        "\n",
        "# Example usage\n",
        "random_text, predicted_category = predict_random_text(dif, model, tokenizer)\n",
        "print(f\"Random Text: {random_text}\")\n",
        "\n",
        "print(f\"Predicted Category: {predicted_category}\")\n"
      ],
      "metadata": {
        "colab": {
          "base_uri": "https://localhost:8080/"
        },
        "id": "qleVsC9qm5XV",
        "outputId": "d02056eb-f32f-4e60-81bf-d40813041bd3"
      },
      "execution_count": 89,
      "outputs": [
        {
          "output_type": "stream",
          "name": "stdout",
          "text": [
            "1/1 [==============================] - 0s 22ms/step\n",
            "index Text: 1\n",
            "Random Text: virgin blue shares plummet 20% shares in australian budget airline virgin blue plunged 20% after it warned of a steep fall in full year profits.  virgin blue said profits after tax for the year to march would be between 10% to 15% lower than the previous year.  sluggish demand reported previously for november and now december 2004 continues   said virgin blue chief executive brett godfrey. virgin blue  which is 25% owned by richard branson  has been struggling to fend off pressure from rival jetstar. it cut its full year passenger number forecast by  approximately 2.5% . virgin blue reported a 22% fall in first quarter profits in august 2004 due to tough competition. in november  first half profits were down due to slack demand and rising fuel costs. virgin blue was launched four years ago and now has roughly one third of australia s domestic airline market. but the national carrier  qantas  has fought back with its own budget airline  jetstar  which took to the skies in may 2004. sydney-listed virgin blue s shares recovered slightly to close 12% down on wednesday. shares in its major shareholder  patrick corporation - which owns 46% of virgin blue - had dropped 31% by the close.\n",
            "Predicted Category: business\n"
          ]
        }
      ]
    }
  ]
}