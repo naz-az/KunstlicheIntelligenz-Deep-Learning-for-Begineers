{
  "cells": [
    {
      "cell_type": "code",
      "execution_count": null,
      "metadata": {
        "id": "NjqlGCcTgGPP"
      },
      "outputs": [],
      "source": [
        "import pandas as pd\n",
        "import numpy as np\n",
        "import tensorflow as tf\n",
        "from tensorflow.keras.preprocessing.text import Tokenizer\n",
        "from tensorflow.keras.preprocessing.sequence import pad_sequences\n",
        "from tensorflow.keras.layers import Embedding, LSTM, Dense, Bidirectional, Dropout\n",
        "from tensorflow.keras.models import Sequential\n",
        "from tensorflow.keras.callbacks import EarlyStopping\n",
        "from sklearn.preprocessing import LabelEncoder\n",
        "from sklearn.model_selection import train_test_split\n",
        "\n",
        "# Load the data\n",
        "train_data = pd.read_csv('/content/drive/MyDrive/Corona_NLP_train.csv', encoding='latin-1')\n",
        "test_data = pd.read_csv('/content/drive/MyDrive/Corona_NLP_test.csv')\n",
        "\n",
        "# Preprocess the data\n",
        "def preprocess_data(data):\n",
        "    data = data.drop(['UserName', 'ScreenName', 'Location', 'TweetAt'], axis=1)\n",
        "    return data\n",
        "\n",
        "train_data = preprocess_data(train_data)\n",
        "test_data = preprocess_data(test_data)"
      ]
    },
    {
      "cell_type": "code",
      "execution_count": null,
      "metadata": {
        "colab": {
          "base_uri": "https://localhost:8080/",
          "height": 507
        },
        "id": "97r86S-3g2xE",
        "outputId": "bd4134fa-a830-4fc9-bb82-31fb5ece40f4"
      },
      "outputs": [
        {
          "data": {
            "image/png": "[encoded data removed]",
            "text/plain": [
              "<Figure size 640x480 with 1 Axes>"
            ]
          },
          "metadata": {},
          "output_type": "display_data"
        },
        {
          "name": "stdout",
          "output_type": "stream",
          "text": [
            "Suggested max_length: 48\n",
            "Suggested vocab_size: 73621\n"
          ]
        }
      ],
      "source": [
        "import matplotlib.pyplot as plt\n",
        "from collections import Counter\n",
        "\n",
        "def analyze_tweet_lengths(texts):\n",
        "    tweet_lengths = [len(t.split()) for t in texts]\n",
        "    return tweet_lengths\n",
        "\n",
        "def plot_length_histogram(lengths):\n",
        "    plt.hist(lengths, bins='auto')\n",
        "    plt.xlabel('Tweet Length')\n",
        "    plt.ylabel('Frequency')\n",
        "    plt.title('Tweet Length Distribution')\n",
        "    plt.show()\n",
        "\n",
        "def suggest_max_length(lengths, threshold=0.95):\n",
        "    sorted_lengths = sorted(lengths)\n",
        "    total_tweets = len(sorted_lengths)\n",
        "    cumulative_sum = 0\n",
        "\n",
        "    for i, length in enumerate(sorted_lengths):\n",
        "        cumulative_sum += 1\n",
        "        if cumulative_sum / total_tweets >= threshold:\n",
        "            return length\n",
        "\n",
        "def analyze_vocab_size(texts):\n",
        "    word_counts = Counter()\n",
        "    for text in texts:\n",
        "        word_counts.update(text.split())\n",
        "\n",
        "    return len(word_counts)\n",
        "\n",
        "def suggest_vocab_size(texts, threshold=0.95):\n",
        "    word_counts = Counter()\n",
        "    for text in texts:\n",
        "        word_counts.update(text.split())\n",
        "\n",
        "    total_words = sum(word_counts.values())\n",
        "    vocab_size = 0\n",
        "    cumulative_sum = 0\n",
        "\n",
        "    for word, count in word_counts.most_common():\n",
        "        cumulative_sum += count\n",
        "        vocab_size += 1\n",
        "        if cumulative_sum / total_words >= threshold:\n",
        "            return vocab_size\n",
        "\n",
        "# Analyze the train_data\n",
        "train_texts = train_data['OriginalTweet']\n",
        "\n",
        "# Determine the optimal max_length\n",
        "tweet_lengths = analyze_tweet_lengths(train_texts)\n",
        "plot_length_histogram(tweet_lengths)\n",
        "max_length = suggest_max_length(tweet_lengths)\n",
        "print(f\"Suggested max_length: {max_length}\")\n",
        "\n",
        "# Determine the optimal vocab_size\n",
        "vocab_size = suggest_vocab_size(train_texts)\n",
        "print(f\"Suggested vocab_size: {vocab_size}\")\n"
      ]
    },
    {
      "cell_type": "code",
      "execution_count": null,
      "metadata": {
        "id": "t0eRna59gUzk"
      },
      "outputs": [],
      "source": [
        "# Tokenize and pad the tweets\n",
        "max_length = max_length\n",
        "trunc_type = 'post'\n",
        "padding_type = 'post'\n",
        "vocab_size = vocab_size\n",
        "oov_tok = '<OOV>'\n",
        "\n",
        "tokenizer = Tokenizer(num_words=vocab_size, oov_token=oov_tok)\n",
        "tokenizer.fit_on_texts(train_data['OriginalTweet'])\n",
        "\n",
        "train_sequences = tokenizer.texts_to_sequences(train_data['OriginalTweet'])\n",
        "train_padded = pad_sequences(train_sequences, maxlen=max_length, padding=padding_type, truncating=trunc_type)\n",
        "\n",
        "test_sequences = tokenizer.texts_to_sequences(test_data['OriginalTweet'])\n",
        "test_padded = pad_sequences(test_sequences, maxlen=max_length, padding=padding_type, truncating=trunc_type)\n"
      ]
    },
    {
      "cell_type": "code",
      "execution_count": null,
      "metadata": {
        "id": "ZpIg_ULjhNIQ"
      },
      "outputs": [],
      "source": [
        "# Encode the sentiment labels\n",
        "encoder = LabelEncoder()\n",
        "train_labels = encoder.fit_transform(train_data['Sentiment'])\n",
        "test_labels = encoder.transform(test_data['Sentiment'])\n",
        "\n",
        "# Split the training data into train and validation sets\n",
        "X_train, X_val, y_train, y_val = train_test_split(train_padded, train_labels, test_size=0.2, random_state=42)\n"
      ]
    },
    {
      "cell_type": "code",
      "execution_count": null,
      "metadata": {
        "colab": {
          "background_save": true,
          "base_uri": "https://localhost:8080/"
        },
        "id": "ZbFzyr2BhRtU",
        "outputId": "185d00df-04d1-45e4-b573-ad841b768ecd"
      },
      "outputs": [
        {
          "name": "stdout",
          "output_type": "stream",
          "text": [
            "Model: \"sequential\"\n",
            "_________________________________________________________________\n",
            " Layer (type)                Output Shape              Param #   \n",
            "=================================================================\n",
            " embedding (Embedding)       (None, 48, 128)           9423488   \n",
            "                                                                 \n",
            " bidirectional (Bidirectiona  (None, 48, 256)          263168    \n",
            " l)                                                              \n",
            "                                                                 \n",
            " bidirectional_1 (Bidirectio  (None, 128)              164352    \n",
            " nal)                                                            \n",
            "                                                                 \n",
            " dense (Dense)               (None, 64)                8256      \n",
            "                                                                 \n",
            " dropout (Dropout)           (None, 64)                0         \n",
            "                                                                 \n",
            " dense_1 (Dense)             (None, 5)                 325       \n",
            "                                                                 \n",
            "=================================================================\n",
            "Total params: 9,859,589\n",
            "Trainable params: 9,859,589\n",
            "Non-trainable params: 0\n",
            "_________________________________________________________________\n",
            "Epoch 1/10\n",
            "1029/1029 [==============================] - 588s 561ms/step - loss: 1.1561 - accuracy: 0.5184 - val_loss: 0.7603 - val_accuracy: 0.7286\n",
            "Epoch 2/10\n",
            "1029/1029 [==============================] - 570s 554ms/step - loss: 0.6205 - accuracy: 0.7885 - val_loss: 0.6588 - val_accuracy: 0.7549\n",
            "Epoch 3/10\n",
            "1029/1029 [==============================] - 575s 559ms/step - loss: 0.3802 - accuracy: 0.8753 - val_loss: 0.6885 - val_accuracy: 0.7710\n",
            "Epoch 4/10\n",
            " 127/1029 [==>...........................] - ETA: 7:41 - loss: 0.2084 - accuracy: 0.9350"
          ]
        }
      ],
      "source": [
        "# Build the model\n",
        "embedding_dim = 128\n",
        "\n",
        "model = Sequential([\n",
        "    Embedding(vocab_size, embedding_dim, input_length=max_length),\n",
        "    Bidirectional(LSTM(128, return_sequences=True)),\n",
        "    Bidirectional(LSTM(64)),\n",
        "    Dense(64, activation='relu'),\n",
        "    Dropout(0.5),\n",
        "    Dense(5, activation='softmax')\n",
        "])\n",
        "\n",
        "model.compile(loss='sparse_categorical_crossentropy', optimizer='adam', metrics=['accuracy'])\n",
        "model.summary()\n",
        "\n",
        "# Train the model\n",
        "epochs = 10\n",
        "early_stop = EarlyStopping(monitor='val_loss', patience=3)\n",
        "\n",
        "history = model.fit(X_train, y_train, epochs=epochs, validation_data=(X_val, y_val), callbacks=[early_stop], batch_size=32)\n"
      ]
    },
    {
      "cell_type": "code",
      "execution_count": null,
      "metadata": {
        "colab": {
          "base_uri": "https://localhost:8080/"
        },
        "id": "EVOKRHnjhWB_",
        "outputId": "2bc1e37f-ca1f-4470-d25f-9ac72c126bc5"
      },
      "outputs": [
        {
          "name": "stdout",
          "output_type": "stream",
          "text": [
            "119/119 [==============================] - 1s 8ms/step - loss: 1.0101 - accuracy: 0.7433\n",
            "Test accuracy: 0.7432859539985657\n",
            "1/1 [==============================] - 0s 22ms/step\n",
            "Dummy tweet sentiment: Neutral\n"
          ]
        }
      ],
      "source": [
        "# Evaluate the model on test data\n",
        "test_loss, test_acc = model.evaluate(test_padded, test_labels)\n",
        "print(f\"Test accuracy: {test_acc}\")\n",
        "\n",
        "# Make a prediction on a dummy tweet\n",
        "dummy_tweet = \"dont wear mask!\"\n",
        "dummy_seq = tokenizer.texts_to_sequences([dummy_tweet])\n",
        "dummy_padded = pad_sequences(dummy_seq, maxlen=max_length, padding=padding_type, truncating=trunc_type)\n",
        "\n",
        "prediction = model.predict(dummy_padded)\n",
        "predicted_label = encoder.inverse_transform([np.argmax(prediction)])\n",
        "\n",
        "print(f\"Dummy tweet sentiment: {predicted_label[0]}\")"
      ]
    }
  ],
  "metadata": {
    "accelerator": "GPU",
    "colab": {
      "provenance": []
    },
    "gpuClass": "standard",
    "kernelspec": {
      "display_name": "Python 3",
      "name": "python3"
    },
    "language_info": {
      "name": "python"
    }
  },
  "nbformat": 4,
  "nbformat_minor": 0
}