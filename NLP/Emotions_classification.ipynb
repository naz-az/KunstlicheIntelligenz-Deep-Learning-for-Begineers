{
  "nbformat": 4,
  "nbformat_minor": 0,
  "metadata": {
    "colab": {
      "provenance": []
    },
    "kernelspec": {
      "name": "python3",
      "display_name": "Python 3"
    },
    "language_info": {
      "name": "python"
    },
    "accelerator": "GPU",
    "gpuClass": "standard"
  },
  "cells": [
    {
      "cell_type": "code",
      "execution_count": 1,
      "metadata": {
        "id": "NSoY-Cfo_Qwq"
      },
      "outputs": [],
      "source": [
        "import tensorflow as tf\n",
        "import pandas as pd\n",
        "import numpy as np\n"
      ]
    },
    {
      "cell_type": "code",
      "source": [
        "# Function to load dataset\n",
        "def load_dataset(file_path):\n",
        "    data = pd.read_csv(file_path, delimiter=';', header=None, names=['sentence', 'emotion'])\n",
        "    return data\n",
        "\n",
        "# Load train, test, and validation datasets\n",
        "train_data = load_dataset('/content/drive/MyDrive/Emotions dataset NLP/train.txt')\n",
        "test_data = load_dataset('/content/drive/MyDrive/Emotions dataset NLP/test.txt')\n",
        "val_data = load_dataset('/content/drive/MyDrive/Emotions dataset NLP/val.txt')"
      ],
      "metadata": {
        "id": "GcZHuZjCBzpp"
      },
      "execution_count": 2,
      "outputs": []
    },
    {
      "cell_type": "code",
      "source": [
        "test_data"
      ],
      "metadata": {
        "colab": {
          "base_uri": "https://localhost:8080/",
          "height": 423
        },
        "id": "gY7E60-rCqvi",
        "outputId": "527343ed-539c-4de3-c427-902d467a5eef"
      },
      "execution_count": 3,
      "outputs": [
        {
          "output_type": "execute_result",
          "data": {
            "text/plain": [
              "                                               sentence  emotion\n",
              "0     im feeling rather rotten so im not very ambiti...  sadness\n",
              "1             im updating my blog because i feel shitty  sadness\n",
              "2     i never make her separate from me because i do...  sadness\n",
              "3     i left with my bouquet of red and yellow tulip...      joy\n",
              "4       i was feeling a little vain when i did this one  sadness\n",
              "...                                                 ...      ...\n",
              "1995  i just keep feeling like someone is being unki...    anger\n",
              "1996  im feeling a little cranky negative after this...    anger\n",
              "1997  i feel that i am useful to my people and that ...      joy\n",
              "1998  im feeling more comfortable with derby i feel ...      joy\n",
              "1999  i feel all weird when i have to meet w people ...     fear\n",
              "\n",
              "[2000 rows x 2 columns]"
            ],
            "text/html": [
              "\n",
              "  <div id=\"df-6dcd9396-cfaf-4fa9-b280-d8946df04b3a\">\n",
              "    <div class=\"colab-df-container\">\n",
              "      <div>\n",
              "<style scoped>\n",
              "    .dataframe tbody tr th:only-of-type {\n",
              "        vertical-align: middle;\n",
              "    }\n",
              "\n",
              "    .dataframe tbody tr th {\n",
              "        vertical-align: top;\n",
              "    }\n",
              "\n",
              "    .dataframe thead th {\n",
              "        text-align: right;\n",
              "    }\n",
              "</style>\n",
              "<table border=\"1\" class=\"dataframe\">\n",
              "  <thead>\n",
              "    <tr style=\"text-align: right;\">\n",
              "      <th></th>\n",
              "      <th>sentence</th>\n",
              "      <th>emotion</th>\n",
              "    </tr>\n",
              "  </thead>\n",
              "  <tbody>\n",
              "    <tr>\n",
              "      <th>0</th>\n",
              "      <td>im feeling rather rotten so im not very ambiti...</td>\n",
              "      <td>sadness</td>\n",
              "    </tr>\n",
              "    <tr>\n",
              "      <th>1</th>\n",
              "      <td>im updating my blog because i feel shitty</td>\n",
              "      <td>sadness</td>\n",
              "    </tr>\n",
              "    <tr>\n",
              "      <th>2</th>\n",
              "      <td>i never make her separate from me because i do...</td>\n",
              "      <td>sadness</td>\n",
              "    </tr>\n",
              "    <tr>\n",
              "      <th>3</th>\n",
              "      <td>i left with my bouquet of red and yellow tulip...</td>\n",
              "      <td>joy</td>\n",
              "    </tr>\n",
              "    <tr>\n",
              "      <th>4</th>\n",
              "      <td>i was feeling a little vain when i did this one</td>\n",
              "      <td>sadness</td>\n",
              "    </tr>\n",
              "    <tr>\n",
              "      <th>...</th>\n",
              "      <td>...</td>\n",
              "      <td>...</td>\n",
              "    </tr>\n",
              "    <tr>\n",
              "      <th>1995</th>\n",
              "      <td>i just keep feeling like someone is being unki...</td>\n",
              "      <td>anger</td>\n",
              "    </tr>\n",
              "    <tr>\n",
              "      <th>1996</th>\n",
              "      <td>im feeling a little cranky negative after this...</td>\n",
              "      <td>anger</td>\n",
              "    </tr>\n",
              "    <tr>\n",
              "      <th>1997</th>\n",
              "      <td>i feel that i am useful to my people and that ...</td>\n",
              "      <td>joy</td>\n",
              "    </tr>\n",
              "    <tr>\n",
              "      <th>1998</th>\n",
              "      <td>im feeling more comfortable with derby i feel ...</td>\n",
              "      <td>joy</td>\n",
              "    </tr>\n",
              "    <tr>\n",
              "      <th>1999</th>\n",
              "      <td>i feel all weird when i have to meet w people ...</td>\n",
              "      <td>fear</td>\n",
              "    </tr>\n",
              "  </tbody>\n",
              "</table>\n",
              "<p>2000 rows × 2 columns</p>\n",
              "</div>\n",
              "      <button class=\"colab-df-convert\" onclick=\"convertToInteractive('df-6dcd9396-cfaf-4fa9-b280-d8946df04b3a')\"\n",
              "              title=\"Convert this dataframe to an interactive table.\"\n",
              "              style=\"display:none;\">\n",
              "        \n",
              "  <svg xmlns=\"http://www.w3.org/2000/svg\" height=\"24px\"viewBox=\"0 0 24 24\"\n",
              "       width=\"24px\">\n",
              "    <path d=\"M0 0h24v24H0V0z\" fill=\"none\"/>\n",
              "    <path d=\"M18.56 5.44l.94 2.06.94-2.06 2.06-.94-2.06-.94-.94-2.06-.94 2.06-2.06.94zm-11 1L8.5 8.5l.94-2.06 2.06-.94-2.06-.94L8.5 2.5l-.94 2.06-2.06.94zm10 10l.94 2.06.94-2.06 2.06-.94-2.06-.94-.94-2.06-.94 2.06-2.06.94z\"/><path d=\"M17.41 7.96l-1.37-1.37c-.4-.4-.92-.59-1.43-.59-.52 0-1.04.2-1.43.59L10.3 9.45l-7.72 7.72c-.78.78-.78 2.05 0 2.83L4 21.41c.39.39.9.59 1.41.59.51 0 1.02-.2 1.41-.59l7.78-7.78 2.81-2.81c.8-.78.8-2.07 0-2.86zM5.41 20L4 18.59l7.72-7.72 1.47 1.35L5.41 20z\"/>\n",
              "  </svg>\n",
              "      </button>\n",
              "      \n",
              "  <style>\n",
              "    .colab-df-container {\n",
              "      display:flex;\n",
              "      flex-wrap:wrap;\n",
              "      gap: 12px;\n",
              "    }\n",
              "\n",
              "    .colab-df-convert {\n",
              "      background-color: #E8F0FE;\n",
              "      border: none;\n",
              "      border-radius: 50%;\n",
              "      cursor: pointer;\n",
              "      display: none;\n",
              "      fill: #1967D2;\n",
              "      height: 32px;\n",
              "      padding: 0 0 0 0;\n",
              "      width: 32px;\n",
              "    }\n",
              "\n",
              "    .colab-df-convert:hover {\n",
              "      background-color: #E2EBFA;\n",
              "      box-shadow: 0px 1px 2px rgba(60, 64, 67, 0.3), 0px 1px 3px 1px rgba(60, 64, 67, 0.15);\n",
              "      fill: #174EA6;\n",
              "    }\n",
              "\n",
              "    [theme=dark] .colab-df-convert {\n",
              "      background-color: #3B4455;\n",
              "      fill: #D2E3FC;\n",
              "    }\n",
              "\n",
              "    [theme=dark] .colab-df-convert:hover {\n",
              "      background-color: #434B5C;\n",
              "      box-shadow: 0px 1px 3px 1px rgba(0, 0, 0, 0.15);\n",
              "      filter: drop-shadow(0px 1px 2px rgba(0, 0, 0, 0.3));\n",
              "      fill: #FFFFFF;\n",
              "    }\n",
              "  </style>\n",
              "\n",
              "      <script>\n",
              "        const buttonEl =\n",
              "          document.querySelector('#df-6dcd9396-cfaf-4fa9-b280-d8946df04b3a button.colab-df-convert');\n",
              "        buttonEl.style.display =\n",
              "          google.colab.kernel.accessAllowed ? 'block' : 'none';\n",
              "\n",
              "        async function convertToInteractive(key) {\n",
              "          const element = document.querySelector('#df-6dcd9396-cfaf-4fa9-b280-d8946df04b3a');\n",
              "          const dataTable =\n",
              "            await google.colab.kernel.invokeFunction('convertToInteractive',\n",
              "                                                     [key], {});\n",
              "          if (!dataTable) return;\n",
              "\n",
              "          const docLinkHtml = 'Like what you see? Visit the ' +\n",
              "            '<a target=\"_blank\" href=https://colab.research.google.com/notebooks/data_table.ipynb>data table notebook</a>'\n",
              "            + ' to learn more about interactive tables.';\n",
              "          element.innerHTML = '';\n",
              "          dataTable['output_type'] = 'display_data';\n",
              "          await google.colab.output.renderOutput(dataTable, element);\n",
              "          const docLink = document.createElement('div');\n",
              "          docLink.innerHTML = docLinkHtml;\n",
              "          element.appendChild(docLink);\n",
              "        }\n",
              "      </script>\n",
              "    </div>\n",
              "  </div>\n",
              "  "
            ]
          },
          "metadata": {},
          "execution_count": 3
        }
      ]
    },
    {
      "cell_type": "code",
      "source": [
        "# Preprocess the text data\n",
        "def preprocess_text(text_data):\n",
        "    tokenizer = tf.keras.preprocessing.text.Tokenizer(oov_token='<OOV>')\n",
        "    tokenizer.fit_on_texts(text_data)\n",
        "\n",
        "    max_length = max([len(s.split()) for s in text_data])\n",
        "    sequences = tokenizer.texts_to_sequences(text_data)\n",
        "    padded_sequences = tf.keras.preprocessing.sequence.pad_sequences(sequences, maxlen=max_length, padding='post')\n",
        "\n",
        "    return padded_sequences, tokenizer, max_length\n"
      ],
      "metadata": {
        "id": "icw_59SJCNaE"
      },
      "execution_count": 4,
      "outputs": []
    },
    {
      "cell_type": "code",
      "source": [
        "# Preprocess the emotion labels\n",
        "def preprocess_labels(emotion_data):\n",
        "    label_tokenizer = tf.keras.preprocessing.text.Tokenizer(filters='')\n",
        "    label_tokenizer.fit_on_texts(emotion_data)\n",
        "\n",
        "    emotion_sequences = label_tokenizer.texts_to_sequences(emotion_data)\n",
        "    emotion_array = np.array(emotion_sequences).reshape(-1)\n",
        "\n",
        "    return emotion_array, label_tokenizer"
      ],
      "metadata": {
        "id": "23H0nUbICagJ"
      },
      "execution_count": 5,
      "outputs": []
    },
    {
      "cell_type": "code",
      "source": [
        "# Preprocess train, test, and validation data\n",
        "train_padded, tokenizer, max_length = preprocess_text(train_data['sentence'])\n",
        "train_labels, label_tokenizer = preprocess_labels(train_data['emotion'])\n",
        "\n",
        "test_padded = tokenizer.texts_to_sequences(test_data['sentence'])\n",
        "test_padded = tf.keras.preprocessing.sequence.pad_sequences(test_padded, maxlen=max_length, padding='post')\n",
        "test_labels, _ = preprocess_labels(test_data['emotion'])\n",
        "\n",
        "val_padded = tokenizer.texts_to_sequences(val_data['sentence'])\n",
        "val_padded = tf.keras.preprocessing.sequence.pad_sequences(val_padded, maxlen=max_length, padding='post')\n",
        "val_labels, _ = preprocess_labels(val_data['emotion'])"
      ],
      "metadata": {
        "id": "UcQfyX-yCjN5"
      },
      "execution_count": 6,
      "outputs": []
    },
    {
      "cell_type": "code",
      "source": [
        "# Define the model\n",
        "model = tf.keras.Sequential([\n",
        "    tf.keras.layers.Embedding(len(tokenizer.word_index) + 1, 64, input_length=max_length),\n",
        "    tf.keras.layers.Bidirectional(tf.keras.layers.LSTM(64, return_sequences=True)),\n",
        "    tf.keras.layers.Bidirectional(tf.keras.layers.LSTM(32)),\n",
        "    tf.keras.layers.Dense(64, activation='relu'),\n",
        "    tf.keras.layers.Dropout(0.5),\n",
        "    tf.keras.layers.Dense(len(label_tokenizer.word_index) + 1, activation='softmax')\n",
        "])\n",
        "\n",
        "model.compile(loss='sparse_categorical_crossentropy', optimizer='adam', metrics=['accuracy'])\n",
        "\n",
        "# Train the model\n",
        "history = model.fit(train_padded, train_labels, epochs=10, validation_data=(val_padded, val_labels), verbose=1)\n"
      ],
      "metadata": {
        "colab": {
          "base_uri": "https://localhost:8080/"
        },
        "id": "BX1uNLxlCmh3",
        "outputId": "d18cf369-3c4a-4895-dfc4-75e86422949b"
      },
      "execution_count": 7,
      "outputs": [
        {
          "output_type": "stream",
          "name": "stdout",
          "text": [
            "Epoch 1/10\n",
            "500/500 [==============================] - 54s 76ms/step - loss: 1.2991 - accuracy: 0.4749 - val_loss: 0.8225 - val_accuracy: 0.7020\n",
            "Epoch 2/10\n",
            "500/500 [==============================] - 11s 22ms/step - loss: 0.4723 - accuracy: 0.8524 - val_loss: 0.3506 - val_accuracy: 0.8795\n",
            "Epoch 3/10\n",
            "500/500 [==============================] - 9s 18ms/step - loss: 0.2640 - accuracy: 0.9128 - val_loss: 0.3747 - val_accuracy: 0.8820\n",
            "Epoch 4/10\n",
            "500/500 [==============================] - 10s 19ms/step - loss: 0.1831 - accuracy: 0.9355 - val_loss: 0.2942 - val_accuracy: 0.9015\n",
            "Epoch 5/10\n",
            "500/500 [==============================] - 8s 17ms/step - loss: 0.1294 - accuracy: 0.9574 - val_loss: 0.2927 - val_accuracy: 0.9125\n",
            "Epoch 6/10\n",
            "500/500 [==============================] - 7s 14ms/step - loss: 0.1121 - accuracy: 0.9617 - val_loss: 0.3483 - val_accuracy: 0.8990\n",
            "Epoch 7/10\n",
            "500/500 [==============================] - 8s 15ms/step - loss: 0.0883 - accuracy: 0.9724 - val_loss: 0.2851 - val_accuracy: 0.9095\n",
            "Epoch 8/10\n",
            "500/500 [==============================] - 7s 14ms/step - loss: 0.0705 - accuracy: 0.9777 - val_loss: 0.3069 - val_accuracy: 0.9160\n",
            "Epoch 9/10\n",
            "500/500 [==============================] - 8s 16ms/step - loss: 0.0563 - accuracy: 0.9816 - val_loss: 0.2939 - val_accuracy: 0.9175\n",
            "Epoch 10/10\n",
            "500/500 [==============================] - 7s 13ms/step - loss: 0.0534 - accuracy: 0.9826 - val_loss: 0.3885 - val_accuracy: 0.9165\n"
          ]
        }
      ]
    },
    {
      "cell_type": "code",
      "source": [
        "# Evaluate the model on the test set\n",
        "loss, accuracy = model.evaluate(test_padded, test_labels)\n",
        "print(f'Test loss: {loss}, Test accuracy: {accuracy}')\n",
        "\n",
        "# Make predictions\n",
        "def predict_emotion(text, tokenizer, label_tokenizer, model, max_length):\n",
        "    sequence = tokenizer.texts_to_sequences([text])\n",
        "    padded_sequence = tf.keras.preprocessing.sequence.pad_sequences(sequence, maxlen=max_length, padding='post')\n",
        "    prediction = model.predict(padded_sequence)\n",
        "    emotion = label_tokenizer.index_word[np.argmax(prediction)]\n",
        "    return emotion\n",
        "\n",
        "text = \"I am not feeling happy today\"\n",
        "predicted_emotion = predict_emotion(text, tokenizer, label_tokenizer, model, max_length)\n",
        "print(f\"Predicted emotion for '{text}': {predicted_emotion}\")\n"
      ],
      "metadata": {
        "colab": {
          "base_uri": "https://localhost:8080/"
        },
        "id": "vZIMIl3TDxn0",
        "outputId": "83ff1755-3b58-435b-8484-55d8545a8bb3"
      },
      "execution_count": 9,
      "outputs": [
        {
          "output_type": "stream",
          "name": "stdout",
          "text": [
            "63/63 [==============================] - 1s 10ms/step - loss: 0.4393 - accuracy: 0.9020\n",
            "Test loss: 0.43926525115966797, Test accuracy: 0.9020000100135803\n",
            "1/1 [==============================] - 0s 38ms/step\n",
            "Predicted emotion for 'I am not feeling happy today': joy\n"
          ]
        }
      ]
    },
    {
      "cell_type": "code",
      "source": [
        "import random\n",
        "\n",
        "def predict_random_test_data(test_data, test_padded, tokenizer, label_tokenizer, model, max_length):\n",
        "    random_index = random.randint(0, len(test_data) - 1)\n",
        "    text = test_data.iloc[random_index]['sentence']\n",
        "    true_emotion = test_data.iloc[random_index]['emotion']\n",
        "\n",
        "    predicted_emotion = predict_emotion(text, tokenizer, label_tokenizer, model, max_length)\n",
        "\n",
        "    print(f\"Text: {text}\")\n",
        "    print(f\"True Emotion: {true_emotion}\")\n",
        "    print(f\"Predicted Emotion: {predicted_emotion}\")\n",
        "\n",
        "# Call the function to predict emotion for a random test data point\n",
        "predict_random_test_data(test_data, test_padded, tokenizer, label_tokenizer, model, max_length)\n"
      ],
      "metadata": {
        "colab": {
          "base_uri": "https://localhost:8080/"
        },
        "id": "5mxPEDcREAYV",
        "outputId": "8618c0c9-1f16-436f-f3fc-cd1ad625cbf3"
      },
      "execution_count": 20,
      "outputs": [
        {
          "output_type": "stream",
          "name": "stdout",
          "text": [
            "1/1 [==============================] - 0s 24ms/step\n",
            "Text: i then realized that if i want to shoot weddings of clients who i connect with and feel comfortable with i must allow them to get to know me\n",
            "True Emotion: joy\n",
            "Predicted Emotion: joy\n"
          ]
        }
      ]
    }
  ]
}